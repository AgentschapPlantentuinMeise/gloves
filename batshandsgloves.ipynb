{
 "cells": [
  {
   "cell_type": "markdown",
   "metadata": {},
   "source": [
    "# Analyse glove wearing of people handling bats"
   ]
  },
  {
   "cell_type": "markdown",
   "metadata": {},
   "source": [
    "Uses logistic regression to model the probability that someone was using gloves with date as the independent variable"
   ]
  },
  {
   "cell_type": "code",
   "execution_count": 1,
   "metadata": {},
   "outputs": [
    {
     "data": {
      "text/html": [
       "'R version 3.6.1 (2019-07-05)'"
      ],
      "text/latex": [
       "'R version 3.6.1 (2019-07-05)'"
      ],
      "text/markdown": [
       "'R version 3.6.1 (2019-07-05)'"
      ],
      "text/plain": [
       "[1] \"R version 3.6.1 (2019-07-05)\""
      ]
     },
     "metadata": {},
     "output_type": "display_data"
    }
   ],
   "source": [
    "R.Version()$version.string"
   ]
  },
  {
   "cell_type": "code",
   "execution_count": 2,
   "metadata": {},
   "outputs": [],
   "source": [
    "# To read the CSV file of input data\n",
    "#install.packages(\"readr\") #uncomment if not already installed\n",
    "library(readr) \n"
   ]
  },
  {
   "cell_type": "code",
   "execution_count": 3,
   "metadata": {},
   "outputs": [
    {
     "name": "stderr",
     "output_type": "stream",
     "text": [
      "Registered S3 methods overwritten by 'ggplot2':\n",
      "  method         from \n",
      "  [.quosures     rlang\n",
      "  c.quosures     rlang\n",
      "  print.quosures rlang\n"
     ]
    }
   ],
   "source": [
    "# For plotting the results\n",
    "#install.packages(\"ggplot2\") #uncomment if not already installed\n",
    "library(ggplot2)"
   ]
  },
  {
   "cell_type": "code",
   "execution_count": 4,
   "metadata": {},
   "outputs": [
    {
     "name": "stderr",
     "output_type": "stream",
     "text": [
      "Warning message:\n",
      "\"package 'ggthemes' was built under R version 3.6.3\""
     ]
    }
   ],
   "source": [
    "# To use a fancy theme in plotting with ggplot\n",
    "#install.packages(\"ggthemes\") #uncomment if not already installed\n",
    "library(ggthemes)"
   ]
  },
  {
   "cell_type": "code",
   "execution_count": 5,
   "metadata": {},
   "outputs": [
    {
     "name": "stderr",
     "output_type": "stream",
     "text": [
      "\n",
      "Attaching package: 'dplyr'\n",
      "\n",
      "The following objects are masked from 'package:stats':\n",
      "\n",
      "    filter, lag\n",
      "\n",
      "The following objects are masked from 'package:base':\n",
      "\n",
      "    intersect, setdiff, setequal, union\n",
      "\n"
     ]
    }
   ],
   "source": [
    "# To filter and reformat data\n",
    "#install.packages(\"dplyr\") #uncomment if not already installed\n",
    "library(dplyr)\n",
    "\n"
   ]
  },
  {
   "cell_type": "code",
   "execution_count": 6,
   "metadata": {},
   "outputs": [],
   "source": [
    "# Widen the data\n",
    "#install.packages(\"reshape2\") #uncomment if not already installed\n",
    "library(reshape2)\n"
   ]
  },
  {
   "cell_type": "code",
   "execution_count": 7,
   "metadata": {},
   "outputs": [
    {
     "name": "stderr",
     "output_type": "stream",
     "text": [
      "Warning message:\n",
      "\"package 'rinat' was built under R version 3.6.3\""
     ]
    }
   ],
   "source": [
    "# To access the iNaturalist API\n",
    "#install.packages(\"rinat\") #uncomment if not already installed\n",
    "library(rinat)\n"
   ]
  },
  {
   "cell_type": "code",
   "execution_count": 8,
   "metadata": {},
   "outputs": [],
   "source": [
    "# To parse the iNaturalist URL\n",
    "#install.packages(\"httr\") #uncomment if not already installed\n",
    "library(httr)"
   ]
  },
  {
   "cell_type": "code",
   "execution_count": 9,
   "metadata": {},
   "outputs": [
    {
     "name": "stderr",
     "output_type": "stream",
     "text": [
      "Warning message:\n",
      "\"package 'Hmisc' was built under R version 3.6.3\"Loading required package: lattice\n",
      "Loading required package: survival\n",
      "Warning message:\n",
      "\"package 'survival' was built under R version 3.6.3\"Loading required package: Formula\n",
      "Warning message:\n",
      "\"package 'Formula' was built under R version 3.6.3\"\n",
      "Attaching package: 'Hmisc'\n",
      "\n",
      "The following objects are masked from 'package:dplyr':\n",
      "\n",
      "    src, summarize\n",
      "\n",
      "The following objects are masked from 'package:base':\n",
      "\n",
      "    format.pval, units\n",
      "\n"
     ]
    }
   ],
   "source": [
    "#install.packages(\"Hmisc\") #uncomment if not already installed\n",
    "library(Hmisc)"
   ]
  },
  {
   "cell_type": "markdown",
   "metadata": {},
   "source": [
    "## Read in the input as a CSV file"
   ]
  },
  {
   "cell_type": "code",
   "execution_count": 11,
   "metadata": {},
   "outputs": [],
   "source": [
    "handsglovesbats <- read.csv(\"handsglovesbats.csv\")"
   ]
  },
  {
   "cell_type": "code",
   "execution_count": 12,
   "metadata": {},
   "outputs": [
    {
     "data": {
      "text/plain": [
       "handsglovesbats \n",
       "\n",
       " 3  Variables      1000  Observations\n",
       "--------------------------------------------------------------------------------\n",
       "gloveOrHand \n",
       "       n  missing distinct \n",
       "    1000        0        2 \n",
       "                      \n",
       "Value      glove  hand\n",
       "Frequency    416   584\n",
       "Proportion 0.416 0.584\n",
       "--------------------------------------------------------------------------------\n",
       "observation \n",
       "       n  missing distinct \n",
       "    1000        0     1000 \n",
       "\n",
       "lowest : https://www.inaturalist.org/observations/100665   https://www.inaturalist.org/observations/10468158 https://www.inaturalist.org/observations/10623008 https://www.inaturalist.org/observations/10868671 https://www.inaturalist.org/observations/112578  \n",
       "highest: https://www.inaturalist.org/observations/9529350  https://www.inaturalist.org/observations/9544300  https://www.inaturalist.org/observations/9674556  https://www.naturalista.mx/observations/5373726   https://www.naturalista.mx/observations/5947373  \n",
       "--------------------------------------------------------------------------------\n",
       "year \n",
       "       n  missing distinct     Info     Mean      Gmd      .05      .10 \n",
       "    1000        0       28    0.954     2016    5.404     2003     2008 \n",
       "     .25      .50      .75      .90      .95 \n",
       "    2014     2018     2020     2020     2020 \n",
       "\n",
       "lowest : 1984 1986 1989 1991 1992, highest: 2017 2018 2019 2020 2021\n",
       "--------------------------------------------------------------------------------"
      ]
     },
     "metadata": {},
     "output_type": "display_data"
    }
   ],
   "source": [
    "describe(handsglovesbats)"
   ]
  },
  {
   "cell_type": "code",
   "execution_count": 13,
   "metadata": {},
   "outputs": [],
   "source": [
    "## This section converts the words 'gloves' and 'hands' to a binary 1 and 0\n",
    "handsglovesbats$gloveOrHand <- as.factor(handsglovesbats$gloveOrHand )\n",
    "handsglovesbats$gloveOrHand <- as.numeric(handsglovesbats$gloveOrHand)\n",
    "handsglovesbats$gloveOrHand <- handsglovesbats$gloveOrHand -2\n",
    "handsglovesbats$gloveOrHand <- handsglovesbats$gloveOrHand *-1"
   ]
  },
  {
   "cell_type": "markdown",
   "metadata": {},
   "source": [
    "## Loop over the input collecting additional data from the iNaturalist API"
   ]
  },
  {
   "cell_type": "code",
   "execution_count": 15,
   "metadata": {},
   "outputs": [
    {
     "name": "stdout",
     "output_type": "stream",
     "text": [
      "[1] \"The data has already been extracted\"\n"
     ]
    }
   ],
   "source": [
    "\n",
    "\n",
    "if(file.exists(\"dataExtractedFromINAT.csv\")){\n",
    "    print(\"The data has already been extracted\")\n",
    "    handsglovesbats <- read.csv(\"dataExtractedFromINAT.csv\")\n",
    "} else {\n",
    "    for (row in 1:nrow(handsglovesbats)) {\n",
    "  \n",
    "        path <- parse_url(handsglovesbats[row,\"observation\"])$path\n",
    "\n",
    "        iNaturalistID <- strsplit(path, \"/\")[[1]][2]\n",
    "\n",
    "        handsglovesbats[row, \"iNaturalistID\"]   <- iNaturalistID\n",
    "\n",
    "        #########################################################################\n",
    "        # BEWARE THIS CALLS THE iNATURALIST API AND SO SHOULD BE USE CAUTIOUSLY #\n",
    "        #########################################################################\n",
    "        observation <- get_inat_obs_id(iNaturalistID)\n",
    "        \n",
    "        Sys.sleep(1) # Slow it down so that the API is not overloaded\n",
    "        \n",
    "        # Don't collect data for observations that are not licensed\n",
    "        if(!is.null(observation$license)){\n",
    "            print(observation$latitude)\n",
    "            handsglovesbats[row, \"observed_on\"] <- observation$observed_on\n",
    "            if(is.null(observation$latitude)){\n",
    "                handsglovesbats[row, \"latitude\"] <- 999\n",
    "                handsglovesbats[row, \"longitude\"] <- 999\n",
    "            } else {\n",
    "                handsglovesbats[row, \"latitude\"] <- observation$latitude\n",
    "                handsglovesbats[row, \"longitude\"] <- observation$longitude\n",
    "            }\n",
    "\n",
    "            if(is.null(observation$positional_accuracy)){\n",
    "                handsglovesbats[row, \"positional_accuracy\"] <- 0\n",
    "            } else {\n",
    "                handsglovesbats[row, \"positional_accuracy\"] <- observation$positional_accuracy\n",
    "            }\n",
    "            handsglovesbats[row, \"quality_grade\"] <- observation$quality_grade\n",
    "            handsglovesbats[row, \"license\"] <- observation$license\n",
    "            handsglovesbats[row, \"captive\"] <- observation$captive\n",
    "            #if no consensus identification has been made the community_taxon_id will be NULL\n",
    "            if(is.null(observation$community_taxon_id)){ \n",
    "                handsglovesbats[row, \"taxon_id\"] <- observation$taxon_id\n",
    "            } else {\n",
    "                handsglovesbats[row, \"taxon_id\"] <- observation$community_taxon_id\n",
    "            }\n",
    "            handsglovesbats[row, \"recorded_by\"] <- observation$user$login\n",
    "        }\n",
    "    }\n",
    "}"
   ]
  },
  {
   "cell_type": "markdown",
   "metadata": {},
   "source": [
    "## Output the retrived data to a CSV file for storage"
   ]
  },
  {
   "cell_type": "code",
   "execution_count": 17,
   "metadata": {},
   "outputs": [],
   "source": [
    "if(!file.exists(\"dataExtractedFromINAT.csv\")){\n",
    "    write.csv(handsglovesbats,\"dataExtractedFromINAT.csv\")\n",
    "    }"
   ]
  },
  {
   "cell_type": "markdown",
   "metadata": {},
   "source": [
    "## Remove the rows where the data are not licenced"
   ]
  },
  {
   "cell_type": "code",
   "execution_count": 18,
   "metadata": {},
   "outputs": [],
   "source": [
    "handsglovesbats <- handsglovesbats[complete.cases(handsglovesbats[5:5]),]"
   ]
  },
  {
   "cell_type": "markdown",
   "metadata": {},
   "source": [
    "## Convert the data in text to a real date type"
   ]
  },
  {
   "cell_type": "code",
   "execution_count": 19,
   "metadata": {},
   "outputs": [],
   "source": [
    "handsglovesbats$observed_on <- as.Date(handsglovesbats$observed_on)"
   ]
  },
  {
   "cell_type": "code",
   "execution_count": 20,
   "metadata": {},
   "outputs": [],
   "source": [
    "#handsglovesbats$gloveOrHand <- ordered(handsglovesbats$gloveOrHand, levels = c(\"hand\", \"glove\"))\n",
    "\n",
    "#levels(handsglovesbats$gloveOrHand) <- c(0,1)"
   ]
  },
  {
   "cell_type": "markdown",
   "metadata": {},
   "source": [
    "## Create the model"
   ]
  },
  {
   "cell_type": "code",
   "execution_count": 21,
   "metadata": {},
   "outputs": [
    {
     "data": {
      "text/plain": [
       "handsglovesbats \n",
       "\n",
       " 13  Variables      761  Observations\n",
       "--------------------------------------------------------------------------------\n",
       "gloveOrHand \n",
       "       n  missing distinct     Info      Sum     Mean      Gmd \n",
       "     761        0        2    0.712      295   0.3876   0.4754 \n",
       "\n",
       "--------------------------------------------------------------------------------\n",
       "observation \n",
       "       n  missing distinct \n",
       "     761        0      761 \n",
       "\n",
       "lowest : https://www.inaturalist.org/observations/100665   https://www.inaturalist.org/observations/10623008 https://www.inaturalist.org/observations/10868671 https://www.inaturalist.org/observations/112578   https://www.inaturalist.org/observations/11388729\n",
       "highest: https://www.inaturalist.org/observations/93980    https://www.inaturalist.org/observations/9529350  https://www.inaturalist.org/observations/9544300  https://www.inaturalist.org/observations/9674556  https://www.naturalista.mx/observations/5373726  \n",
       "--------------------------------------------------------------------------------\n",
       "year \n",
       "       n  missing distinct     Info     Mean      Gmd      .05      .10 \n",
       "     761        0       28    0.968     2016    5.648     2003     2008 \n",
       "     .25      .50      .75      .90      .95 \n",
       "    2013     2017     2020     2020     2020 \n",
       "\n",
       "lowest : 1984 1986 1989 1991 1992, highest: 2017 2018 2019 2020 2021\n",
       "--------------------------------------------------------------------------------\n",
       "iNaturalistID \n",
       "       n  missing distinct \n",
       "     761        0      761 \n",
       "\n",
       "lowest : 100665   10623008 10868671 112578   11388729\n",
       "highest: 93979    93980    9529350  9544300  9674556 \n",
       "--------------------------------------------------------------------------------\n",
       "observed_on \n",
       "         n    missing   distinct       Info       Mean        Gmd        .05 \n",
       "       761          0        495          1 2016-03-05       2086 2003-07-25 \n",
       "       .10        .25        .50        .75        .90        .95 \n",
       "2008-08-31 2013-10-20 2017-09-08 2020-09-10 2020-11-17 2020-12-11 \n",
       "\n",
       "lowest : 1984-07-16 1986-02-11 1989-02-25 1991-08-15 1992-06-26\n",
       "highest: 2021-01-23 2021-01-25 2021-01-28 2021-01-29 2021-04-15\n",
       "--------------------------------------------------------------------------------\n",
       "latitude \n",
       "       n  missing distinct \n",
       "     761        0      665 \n",
       "\n",
       "lowest : -0.0886644877 -0.1044517113 -0.2756789841 -0.353212483  -0.9924662859\n",
       "highest: 9.552845      9.5666667     9.5798396944  9.5803265997  999          \n",
       "--------------------------------------------------------------------------------\n",
       "longitude \n",
       "       n  missing distinct \n",
       "     761        0      667 \n",
       "\n",
       "lowest : -0.964259      -1.45963       -100.220770683 -100.35418     -101.144394863\n",
       "highest: 92.8178291     92.936389      93.175         99.4537470783  999           \n",
       "--------------------------------------------------------------------------------\n",
       "positional_accuracy \n",
       "       n  missing distinct     Info     Mean      Gmd      .05      .10 \n",
       "     761        0      268    0.997     2644     4887        0        0 \n",
       "     .25      .50      .75      .90      .95 \n",
       "       8      100      522     2997     9288 \n",
       "\n",
       "lowest :      0      1      2      3      4, highest:  52063  89373 182272 266167 269254\n",
       "--------------------------------------------------------------------------------\n",
       "quality_grade \n",
       "       n  missing distinct \n",
       "     761        0        3 \n",
       "                                     \n",
       "Value        casual needs_id research\n",
       "Frequency         1      266      494\n",
       "Proportion    0.001    0.350    0.649\n",
       "--------------------------------------------------------------------------------\n",
       "license \n",
       "       n  missing distinct \n",
       "     761        0        7 \n",
       "\n",
       "lowest : CC-BY       CC-BY-NC    CC-BY-NC-ND CC-BY-NC-SA CC-BY-ND   \n",
       "highest: CC-BY-NC-ND CC-BY-NC-SA CC-BY-ND    CC-BY-SA    CC0        \n",
       "                                                                      \n",
       "Value            CC-BY    CC-BY-NC CC-BY-NC-ND CC-BY-NC-SA    CC-BY-ND\n",
       "Frequency          146         555          19          14           1\n",
       "Proportion       0.192       0.729       0.025       0.018       0.001\n",
       "                                  \n",
       "Value         CC-BY-SA         CC0\n",
       "Frequency           12          14\n",
       "Proportion       0.016       0.018\n",
       "--------------------------------------------------------------------------------\n",
       "captive \n",
       "       n  missing distinct    value \n",
       "     761        0        1    FALSE \n",
       "                \n",
       "Value      FALSE\n",
       "Frequency    761\n",
       "Proportion     1\n",
       "--------------------------------------------------------------------------------\n",
       "taxon_id \n",
       "       n  missing distinct     Info     Mean      Gmd      .05      .10 \n",
       "     761        0      267        1   124087   147076    40270    40348 \n",
       "     .25      .50      .75      .90      .95 \n",
       "   40558    41090    74262   210400   846180 \n",
       "\n",
       "lowest :   40268   40269   40270   40281   40286\n",
       "highest:  852379  897943  940158 1067749 1067750\n",
       "\n",
       "40000 (556, 0.731), 60000 (3, 0.004), 70000 (65, 0.085), 80000 (13, 0.017),\n",
       "180000 (12, 0.016), 2e+05 (16, 0.021), 210000 (23, 0.030), 240000 (3, 0.004),\n",
       "420000 (4, 0.005), 450000 (3, 0.004), 520000 (6, 0.008), 630000 (1, 0.001),\n",
       "770000 (12, 0.016), 790000 (1, 0.001), 8e+05 (1, 0.001), 850000 (31, 0.041),\n",
       "9e+05 (1, 0.001), 940000 (4, 0.005), 1070000 (6, 0.008)\n",
       "\n",
       "For the frequency table, variable is rounded to the nearest 10000\n",
       "--------------------------------------------------------------------------------\n",
       "recorded_by \n",
       "       n  missing distinct \n",
       "     761        0      341 \n",
       "\n",
       "lowest : aaron_fool  abedalsalam abrierly    abuhamas    achipps    \n",
       "highest: yancey_     yinjuyang   yvesbas     zachcheng   zamboiro   \n",
       "--------------------------------------------------------------------------------"
      ]
     },
     "metadata": {},
     "output_type": "display_data"
    }
   ],
   "source": [
    "describe(handsglovesbats)"
   ]
  },
  {
   "cell_type": "code",
   "execution_count": 22,
   "metadata": {},
   "outputs": [
    {
     "data": {
      "text/plain": [
       "\n",
       "Call:\n",
       "glm(formula = gloveOrHand ~ observed_on, family = binomial(link = \"logit\"), \n",
       "    data = handsglovesbats)\n",
       "\n",
       "Deviance Residuals: \n",
       "    Min       1Q   Median       3Q      Max  \n",
       "-1.1232  -1.0326  -0.8282   1.2456   2.2443  \n",
       "\n",
       "Coefficients:\n",
       "              Estimate Std. Error z value Pr(>|z|)    \n",
       "(Intercept) -3.818e+00  7.330e-01  -5.208 1.91e-07 ***\n",
       "observed_on  1.978e-04  4.257e-05   4.647 3.37e-06 ***\n",
       "---\n",
       "Signif. codes:  0 '***' 0.001 '**' 0.01 '*' 0.05 '.' 0.1 ' ' 1\n",
       "\n",
       "(Dispersion parameter for binomial family taken to be 1)\n",
       "\n",
       "    Null deviance: 1016.22  on 760  degrees of freedom\n",
       "Residual deviance:  991.29  on 759  degrees of freedom\n",
       "AIC: 995.29\n",
       "\n",
       "Number of Fisher Scoring iterations: 4\n"
      ]
     },
     "metadata": {},
     "output_type": "display_data"
    }
   ],
   "source": [
    "modelLG <- glm(gloveOrHand ~ observed_on,family=binomial(link='logit'),data=handsglovesbats)\n",
    "\n",
    "summary(modelLG)"
   ]
  },
  {
   "cell_type": "code",
   "execution_count": 23,
   "metadata": {},
   "outputs": [
    {
     "data": {
      "text/plain": [
       "  gloveOrHand                                                observation \n",
       " Min.   :0.0000   https://www.inaturalist.org/observations/100665  :  1  \n",
       " 1st Qu.:0.0000   https://www.inaturalist.org/observations/10623008:  1  \n",
       " Median :0.0000   https://www.inaturalist.org/observations/10868671:  1  \n",
       " Mean   :0.3876   https://www.inaturalist.org/observations/112578  :  1  \n",
       " 3rd Qu.:1.0000   https://www.inaturalist.org/observations/11388729:  1  \n",
       " Max.   :1.0000   https://www.inaturalist.org/observations/117460  :  1  \n",
       "                  (Other)                                          :755  \n",
       "      year      iNaturalistID       observed_on           latitude        \n",
       " Min.   :1984   Length:761         Min.   :1984-07-16   Length:761        \n",
       " 1st Qu.:2013   Class :character   1st Qu.:2013-10-20   Class :character  \n",
       " Median :2017   Mode  :character   Median :2017-09-08   Mode  :character  \n",
       " Mean   :2016                      Mean   :2016-03-05                     \n",
       " 3rd Qu.:2020                      3rd Qu.:2020-09-10                     \n",
       " Max.   :2021                      Max.   :2021-04-15                     \n",
       "                                                                          \n",
       "  longitude         positional_accuracy quality_grade        license         \n",
       " Length:761         Min.   :     0      Length:761         Length:761        \n",
       " Class :character   1st Qu.:     8      Class :character   Class :character  \n",
       " Mode  :character   Median :   100      Mode  :character   Mode  :character  \n",
       "                    Mean   :  2644                                           \n",
       "                    3rd Qu.:   522                                           \n",
       "                    Max.   :269254                                           \n",
       "                                                                             \n",
       "  captive           taxon_id       recorded_by       \n",
       " Mode :logical   Min.   :  40268   Length:761        \n",
       " FALSE:761       1st Qu.:  40558   Class :character  \n",
       "                 Median :  41090   Mode  :character  \n",
       "                 Mean   : 124087                     \n",
       "                 3rd Qu.:  74262                     \n",
       "                 Max.   :1067750                     \n",
       "                                                     "
      ]
     },
     "metadata": {},
     "output_type": "display_data"
    }
   ],
   "source": [
    "summary(handsglovesbats)"
   ]
  },
  {
   "cell_type": "code",
   "execution_count": 24,
   "metadata": {},
   "outputs": [
    {
     "data": {
      "text/html": [
       "<dl class=dl-horizontal>\n",
       "\t<dt>(Intercept)</dt>\n",
       "\t\t<dd>0.0219729037654933</dd>\n",
       "\t<dt>observed_on</dt>\n",
       "\t\t<dd>1.00019781997344</dd>\n",
       "</dl>\n"
      ],
      "text/latex": [
       "\\begin{description*}\n",
       "\\item[(Intercept)] 0.0219729037654933\n",
       "\\item[observed\\textbackslash{}\\_on] 1.00019781997344\n",
       "\\end{description*}\n"
      ],
      "text/markdown": [
       "(Intercept)\n",
       ":   0.0219729037654933observed_on\n",
       ":   1.00019781997344\n",
       "\n"
      ],
      "text/plain": [
       "(Intercept) observed_on \n",
       "  0.0219729   1.0001978 "
      ]
     },
     "metadata": {},
     "output_type": "display_data"
    },
    {
     "data": {
      "text/html": [
       "<table>\n",
       "<thead><tr><th></th><th scope=col>Df</th><th scope=col>Deviance</th><th scope=col>Resid. Df</th><th scope=col>Resid. Dev</th><th scope=col>Pr(&gt;Chi)</th></tr></thead>\n",
       "<tbody>\n",
       "\t<tr><th scope=row>NULL</th><td>NA          </td><td>      NA    </td><td>760         </td><td>1016.2155   </td><td>          NA</td></tr>\n",
       "\t<tr><th scope=row>observed_on</th><td> 1          </td><td>24.92494    </td><td>759         </td><td> 991.2906   </td><td>5.960628e-07</td></tr>\n",
       "</tbody>\n",
       "</table>\n"
      ],
      "text/latex": [
       "\\begin{tabular}{r|lllll}\n",
       "  & Df & Deviance & Resid. Df & Resid. Dev & Pr(>Chi)\\\\\n",
       "\\hline\n",
       "\tNULL & NA           &       NA     & 760          & 1016.2155    &           NA\\\\\n",
       "\tobserved\\_on &  1           & 24.92494     & 759          &  991.2906    & 5.960628e-07\\\\\n",
       "\\end{tabular}\n"
      ],
      "text/markdown": [
       "\n",
       "| <!--/--> | Df | Deviance | Resid. Df | Resid. Dev | Pr(>Chi) |\n",
       "|---|---|---|---|---|---|\n",
       "| NULL | NA           |       NA     | 760          | 1016.2155    |           NA |\n",
       "| observed_on |  1           | 24.92494     | 759          |  991.2906    | 5.960628e-07 |\n",
       "\n"
      ],
      "text/plain": [
       "            Df Deviance Resid. Df Resid. Dev Pr(>Chi)    \n",
       "NULL        NA       NA 760       1016.2155            NA\n",
       "observed_on  1 24.92494 759        991.2906  5.960628e-07"
      ]
     },
     "metadata": {},
     "output_type": "display_data"
    }
   ],
   "source": [
    "# Odds Ratio\n",
    "oddrat <- exp(coef(modelLG))\n",
    "oddrat\n",
    "\n",
    "anova(modelLG, test=\"Chisq\")"
   ]
  },
  {
   "cell_type": "markdown",
   "metadata": {},
   "source": [
    "## Display the results in a graph"
   ]
  },
  {
   "cell_type": "code",
   "execution_count": 25,
   "metadata": {},
   "outputs": [
    {
     "name": "stderr",
     "output_type": "stream",
     "text": [
      "Warning message:\n",
      "\"Ignoring unknown parameters: height, width\""
     ]
    },
    {
     "data": {
      "image/png": "[encoded data removed]",
      "text/plain": [
       "plot without title"
      ]
     },
     "metadata": {},
     "output_type": "display_data"
    }
   ],
   "source": [
    "ggplot(handsglovesbats, aes(x=observed_on, y=gloveOrHand)) + \n",
    "  geom_point(height = 0.03, width=0.3, shape=16, alpha = 0.2, size=4) +\n",
    "  #geom_jitter(height = 0.03, width=0.3, shape=1, alpha = 0.4) +\n",
    "  #scale_x_continuous(breaks = seq(2008, 2021, by = 3)) +\n",
    "  stat_smooth(formula = y ~ x, method=\"glm\", method.args=list(family=\"binomial\"), se=TRUE, fill = \"steelblue\", inherit.aes = TRUE, size = 1.5, linetype = 1, colour = \"red\") +\n",
    "  labs(y = \"Probability of gloves being used\", x = \"Date observed\") + theme_stata(base_size = 20, base_family = \"sans\", scheme = \"s2color\")"
   ]
  },
  {
   "cell_type": "markdown",
   "metadata": {},
   "source": [
    "## Output the plot as high quality files"
   ]
  },
  {
   "cell_type": "code",
   "execution_count": 26,
   "metadata": {},
   "outputs": [],
   "source": [
    "ggsave(\n",
    "  \"gloveprobability.tiff\",\n",
    "  plot = last_plot(),\n",
    "  device = \"tiff\",\n",
    "  scale = 1,\n",
    "  width = 242.7,\n",
    "  height = 150,\n",
    "  units = c(\"mm\"),\n",
    "  dpi = 300\n",
    ")\n",
    "\n",
    "ggsave(\n",
    "  \"gloveprobability.jpg\",\n",
    "  plot = last_plot(),\n",
    "  device = \"jpg\",\n",
    "  scale = 1,\n",
    "  width = 242.7,\n",
    "  height = 150,\n",
    "  units = c(\"mm\"),\n",
    "  dpi = 300\n",
    ")"
   ]
  },
  {
   "cell_type": "markdown",
   "metadata": {},
   "source": [
    "## See where the observations come from"
   ]
  },
  {
   "cell_type": "code",
   "execution_count": 27,
   "metadata": {},
   "outputs": [],
   "source": [
    "handsglovesbats$longitude[handsglovesbats$longitude == 999] <- NA\n",
    "handsglovesbats$latitude[handsglovesbats$latitude == 999] <- NA\n",
    "\n",
    "handsglovesbats$longitude <- as.numeric(handsglovesbats$longitude)\n",
    "handsglovesbats$latitude <- as.numeric(handsglovesbats$latitude)\n",
    "\n",
    "handsglovesbats$gloveOrHand <- as.factor(handsglovesbats$gloveOrHand )"
   ]
  },
  {
   "cell_type": "code",
   "execution_count": 32,
   "metadata": {},
   "outputs": [
    {
     "name": "stderr",
     "output_type": "stream",
     "text": [
      "Warning message:\n",
      "\"Removed 2 rows containing missing values (geom_point).\""
     ]
    },
    {
     "data": {
      "image/png": "[encoded data removed]",
      "text/plain": [
       "plot without title"
      ]
     },
     "metadata": {},
     "output_type": "display_data"
    }
   ],
   "source": [
    "## A more elaborate map of Colibri sp.\n",
    "ggplot(data = handsglovesbats, aes(x = longitude,\n",
    "                             y = latitude,\n",
    "                             colour = gloveOrHand)) +\n",
    "      geom_polygon(data = map_data(\"world\"),\n",
    "                       aes(x = long, y = lat, group = group),\n",
    "                       fill = \"grey95\",\n",
    "                       color = \"gray40\",\n",
    "                       size = 0.1) +\n",
    "      geom_point(size = 1, alpha = 1) +\n",
    "      #coord_fixed(xlim = range(handsglovesbats$longitude, na.rm = TRUE),\n",
    "      #            ylim = range(handsglovesbats$latitude, na.rm = TRUE)) +\n",
    "        coord_fixed(ylim = c(-60,80),\n",
    "                  xlim = c(-160,170)) +\n",
    "        labs(color = \"Hands (0) or\\n Gloves (1)\") +\n",
    "        theme_bw()"
   ]
  },
  {
   "cell_type": "code",
   "execution_count": 33,
   "metadata": {},
   "outputs": [
    {
     "name": "stderr",
     "output_type": "stream",
     "text": [
      "Warning message:\n",
      "\"Removed 2 rows containing missing values (geom_point).\"Warning message:\n",
      "\"Removed 2 rows containing missing values (geom_point).\""
     ]
    }
   ],
   "source": [
    "ggsave(\n",
    "  \"glovemap.tiff\",\n",
    "  plot = last_plot(),\n",
    "  device = \"tiff\",\n",
    "  scale = 1,\n",
    "  width = 242.7,\n",
    "  height = 150,\n",
    "  units = c(\"mm\"),\n",
    "  dpi = 300\n",
    ")\n",
    "\n",
    "ggsave(\n",
    "  \"glovemap.jpg\",\n",
    "  plot = last_plot(),\n",
    "  device = \"jpg\",\n",
    "  scale = 1,\n",
    "  width = 242.7,\n",
    "  height = 150,\n",
    "  units = c(\"mm\"),\n",
    "  dpi = 300\n",
    ")"
   ]
  },
  {
   "cell_type": "markdown",
   "metadata": {},
   "source": [
    "handsglovesbats"
   ]
  },
  {
   "cell_type": "code",
   "execution_count": 44,
   "metadata": {},
   "outputs": [
    {
     "data": {
      "text/html": [
       "<table>\n",
       "<thead><tr><th></th><th scope=col>gloveOrHand</th><th scope=col>observation</th><th scope=col>year</th><th scope=col>iNaturalistID</th><th scope=col>observed_on</th><th scope=col>latitude</th><th scope=col>longitude</th><th scope=col>positional_accuracy</th><th scope=col>quality_grade</th><th scope=col>license</th><th scope=col>captive</th><th scope=col>taxon_id</th><th scope=col>recorded_by</th></tr></thead>\n",
       "<tbody>\n",
       "\t<tr><th scope=row>1</th><td>1                                                </td><td>https://www.inaturalist.org/observations/100665  </td><td>2012                                             </td><td>100665                                           </td><td>2012-07-10                                       </td><td> 41.011000                                       </td><td> -81.684333                                      </td><td>    0                                            </td><td>research                                         </td><td>CC-BY                                            </td><td>FALSE                                            </td><td> 40509                                           </td><td>jwhittle                                         </td></tr>\n",
       "\t<tr><th scope=row>3</th><td>0                                                </td><td>https://www.inaturalist.org/observations/10623008</td><td>2018                                             </td><td>10623008                                         </td><td>2018-03-16                                       </td><td> 42.158061                                       </td><td>   9.398053                                      </td><td>    0                                            </td><td>research                                         </td><td>CC-BY                                            </td><td>FALSE                                            </td><td> 40695                                           </td><td>jujurenoult                                      </td></tr>\n",
       "\t<tr><th scope=row>4</th><td>0                                                </td><td>https://www.inaturalist.org/observations/10868671</td><td>2018                                             </td><td>10868671                                         </td><td>2018-02-17                                       </td><td> 19.508945                                       </td><td>-103.710766                                      </td><td> 1030                                            </td><td>needs_id                                         </td><td>CC-BY-NC                                         </td><td>FALSE                                            </td><td> 40992                                           </td><td>zamboiro                                         </td></tr>\n",
       "\t<tr><th scope=row>5</th><td>0                                                </td><td>https://www.inaturalist.org/observations/112578  </td><td>2012                                             </td><td>112578                                           </td><td>2012-04-13                                       </td><td>  4.746486                                       </td><td> -76.293932                                      </td><td> 2118                                            </td><td>needs_id                                         </td><td>CC-BY                                            </td><td>FALSE                                            </td><td> 41039                                           </td><td>damonsalveo                                      </td></tr>\n",
       "\t<tr><th scope=row>6</th><td>1                                                </td><td>https://www.inaturalist.org/observations/11388729</td><td>2018                                             </td><td>11388729                                         </td><td>2018-04-18                                       </td><td> 41.606241                                       </td><td> -73.051556                                      </td><td> 5888                                            </td><td>research                                         </td><td>CC-BY-NC                                         </td><td>FALSE                                            </td><td> 40523                                           </td><td>lindabowen                                       </td></tr>\n",
       "\t<tr><th scope=row>7</th><td>0                                                </td><td>https://www.inaturalist.org/observations/117460  </td><td>2012                                             </td><td>117460                                           </td><td>2012-08-28                                       </td><td> 41.298249                                       </td><td> -81.456460                                      </td><td>    0                                            </td><td>research                                         </td><td>CC-BY                                            </td><td>FALSE                                            </td><td>183166                                           </td><td>mperdicas                                        </td></tr>\n",
       "\t<tr><th scope=row>10</th><td>0                                                </td><td>https://www.inaturalist.org/observations/120500  </td><td>2010                                             </td><td>120500                                           </td><td>2010-10-18                                       </td><td>  7.743067                                       </td><td> -72.558583                                      </td><td>    0                                            </td><td>research                                         </td><td>CC-BY-NC                                         </td><td>FALSE                                            </td><td> 74518                                           </td><td>arleyo                                           </td></tr>\n",
       "\t<tr><th scope=row>12</th><td>0                                                </td><td>https://www.inaturalist.org/observations/121810  </td><td>2012                                             </td><td>121810                                           </td><td>2012-09-11                                       </td><td> 41.274409                                       </td><td> -81.497865                                      </td><td>    0                                            </td><td>research                                         </td><td>CC-BY                                            </td><td>FALSE                                            </td><td> 40349                                           </td><td>jwhittle                                         </td></tr>\n",
       "\t<tr><th scope=row>13</th><td>0                                                </td><td>https://www.inaturalist.org/observations/122214  </td><td>2012                                             </td><td>122214                                           </td><td>2012-09-13                                       </td><td> 42.582826                                       </td><td> -80.398481                                      </td><td>  100                                            </td><td>research                                         </td><td>CC-BY-NC                                         </td><td>FALSE                                            </td><td> 40629                                           </td><td>pcatling                                         </td></tr>\n",
       "\t<tr><th scope=row>14</th><td>1                                                </td><td>https://www.inaturalist.org/observations/123931  </td><td>2007                                             </td><td>123931                                           </td><td>2007-01-02                                       </td><td> 10.379174                                       </td><td> -84.110749                                      </td><td>    0                                            </td><td>research                                         </td><td>CC-BY-NC                                         </td><td>FALSE                                            </td><td> 41221                                           </td><td>kucycads                                         </td></tr>\n",
       "\t<tr><th scope=row>15</th><td>0                                                </td><td>https://www.inaturalist.org/observations/123965  </td><td>2007                                             </td><td>123965                                           </td><td>2007-01-06                                       </td><td> 10.379174                                       </td><td> -84.110749                                      </td><td>    0                                            </td><td>research                                         </td><td>CC-BY-NC                                         </td><td>FALSE                                            </td><td> 41005                                           </td><td>kucycads                                         </td></tr>\n",
       "\t<tr><th scope=row>16</th><td>1                                                </td><td>https://www.inaturalist.org/observations/12519390</td><td>2004                                             </td><td>12519390                                         </td><td>2004-08-10                                       </td><td> 21.091626                                       </td><td> -89.595612                                      </td><td>  421                                            </td><td>needs_id                                         </td><td>CC-BY-ND                                         </td><td>FALSE                                            </td><td> 40992                                           </td><td>luis_diaz-gamboa                                 </td></tr>\n",
       "\t<tr><th scope=row>17</th><td>1                                                </td><td>https://www.inaturalist.org/observations/125920  </td><td>2012                                             </td><td>125920                                           </td><td>2012-08-27                                       </td><td>  5.524271                                       </td><td> -74.873124                                      </td><td>    0                                            </td><td>needs_id                                         </td><td>CC-BY-NC                                         </td><td>FALSE                                            </td><td> 41226                                           </td><td>biologist13                                      </td></tr>\n",
       "\t<tr><th scope=row>18</th><td>0                                                </td><td>https://www.inaturalist.org/observations/126323  </td><td>2007                                             </td><td>126323                                           </td><td>2007-01-12                                       </td><td> 10.546194                                       </td><td> -84.005727                                      </td><td> 3537                                            </td><td>research                                         </td><td>CC-BY-NC                                         </td><td>FALSE                                            </td><td> 41057                                           </td><td>kucycads                                         </td></tr>\n",
       "\t<tr><th scope=row>19</th><td>1                                                </td><td>https://www.inaturalist.org/observations/127029  </td><td>2008                                             </td><td>127029                                           </td><td>2008-10-02                                       </td><td> 35.067167                                       </td><td>-109.780347                                      </td><td>   54                                            </td><td>research                                         </td><td>CC-BY-NC                                         </td><td>FALSE                                            </td><td> 40342                                           </td><td>kucycads                                         </td></tr>\n",
       "\t<tr><th scope=row>21</th><td>0                                                </td><td>https://www.inaturalist.org/observations/1296911 </td><td>2008                                             </td><td>1296911                                          </td><td>2008-08-31                                       </td><td> 44.911615                                       </td><td>   7.788198                                      </td><td>  100                                            </td><td>research                                         </td><td>CC-BY-NC                                         </td><td>FALSE                                            </td><td> 40383                                           </td><td>roberto_sindaco                                  </td></tr>\n",
       "\t<tr><th scope=row>22</th><td>0                                                </td><td>https://www.inaturalist.org/observations/131187  </td><td>2011                                             </td><td>131187                                           </td><td>2011-07-12                                       </td><td> 53.222627                                       </td><td>   6.773069                                      </td><td> 1174                                            </td><td>research                                         </td><td>CC-BY                                            </td><td>FALSE                                            </td><td> 40308                                           </td><td>torwart                                          </td></tr>\n",
       "\t<tr><th scope=row>25</th><td>1                                                </td><td>https://www.inaturalist.org/observations/133279  </td><td>2012                                             </td><td>133279                                           </td><td>2012-05-19                                       </td><td> 40.233035                                       </td><td> -83.035462                                      </td><td>    0                                            </td><td>research                                         </td><td>CC-BY                                            </td><td>FALSE                                            </td><td> 40509                                           </td><td>jwhittle                                         </td></tr>\n",
       "\t<tr><th scope=row>26</th><td>0                                                </td><td>https://www.inaturalist.org/observations/136033  </td><td>2009                                             </td><td>136033                                           </td><td>2009-08-23                                       </td><td>  5.929048                                       </td><td>   0.073490                                      </td><td>    0                                            </td><td>research                                         </td><td>CC-BY                                            </td><td>FALSE                                            </td><td>183177                                           </td><td>jakob                                            </td></tr>\n",
       "\t<tr><th scope=row>27</th><td>0                                                </td><td>https://www.inaturalist.org/observations/139000  </td><td>2011                                             </td><td>139000                                           </td><td>2011-07-24                                       </td><td> 37.379789                                       </td><td>-121.728743                                      </td><td>    0                                            </td><td>research                                         </td><td>CC-BY-NC                                         </td><td>FALSE                                            </td><td> 41301                                           </td><td>edwardrooks                                      </td></tr>\n",
       "\t<tr><th scope=row>28</th><td>1                                                </td><td>https://www.inaturalist.org/observations/140571  </td><td>2009                                             </td><td>140571                                           </td><td>2009-08-02                                       </td><td> -5.092889                                       </td><td>  38.615167                                      </td><td>  300                                            </td><td>research                                         </td><td>CC0                                              </td><td>FALSE                                            </td><td> 40966                                           </td><td>carrieseltzer                                    </td></tr>\n",
       "\t<tr><th scope=row>29</th><td>1                                                </td><td>https://www.inaturalist.org/observations/140580  </td><td>2009                                             </td><td>140580                                           </td><td>2009-07-26                                       </td><td> -5.099683                                       </td><td>  38.624317                                      </td><td>   20                                            </td><td>needs_id                                         </td><td>CC0                                              </td><td>FALSE                                            </td><td> 40585                                           </td><td>carrieseltzer                                    </td></tr>\n",
       "\t<tr><th scope=row>30</th><td>1                                                </td><td>https://www.inaturalist.org/observations/140597  </td><td>2011                                             </td><td>140597                                           </td><td>2011-03-11                                       </td><td> -5.098987                                       </td><td>  38.632182                                      </td><td>   30                                            </td><td>research                                         </td><td>CC0                                              </td><td>FALSE                                            </td><td> 40811                                           </td><td>carrieseltzer                                    </td></tr>\n",
       "\t<tr><th scope=row>31</th><td>1                                                </td><td>https://www.inaturalist.org/observations/14204583</td><td>2018                                             </td><td>14204583                                         </td><td>2018-07-06                                       </td><td> 34.109141                                       </td><td> -90.159799                                      </td><td>    0                                            </td><td>research                                         </td><td>CC-BY-NC                                         </td><td>FALSE                                            </td><td>183166                                           </td><td>cricketfrog13                                    </td></tr>\n",
       "\t<tr><th scope=row>32</th><td>0                                                </td><td>https://www.inaturalist.org/observations/14635875</td><td>2017                                             </td><td>14635875                                         </td><td>2017-12-09                                       </td><td> 16.973000                                       </td><td> 122.198024                                      </td><td>12688                                            </td><td>needs_id                                         </td><td>CC-BY-NC                                         </td><td>FALSE                                            </td><td> 74298                                           </td><td>ryan367                                          </td></tr>\n",
       "\t<tr><th scope=row>33</th><td>0                                                </td><td>https://www.inaturalist.org/observations/15686267</td><td>2018                                             </td><td>15686267                                         </td><td>2018-08-19                                       </td><td>-21.884813                                       </td><td> 125.544615                                      </td><td>    0                                            </td><td>needs_id                                         </td><td>CC-BY                                            </td><td>FALSE                                            </td><td> 40268                                           </td><td>questagame                                       </td></tr>\n",
       "\t<tr><th scope=row>34</th><td>0                                                </td><td>https://www.inaturalist.org/observations/16162774</td><td>2018                                             </td><td>16162774                                         </td><td>2018-08-16                                       </td><td> 44.697237                                       </td><td>   8.152634                                      </td><td>    6                                            </td><td>research                                         </td><td>CC-BY-NC                                         </td><td>FALSE                                            </td><td> 40291                                           </td><td>rtoffoli                                         </td></tr>\n",
       "\t<tr><th scope=row>35</th><td>0                                                </td><td>https://www.inaturalist.org/observations/16202689</td><td>2018                                             </td><td>16202689                                         </td><td>2018-07-14                                       </td><td>  6.325299                                       </td><td> -73.948875                                      </td><td>  132                                            </td><td>research                                         </td><td>CC-BY-NC                                         </td><td>FALSE                                            </td><td> 41153                                           </td><td>michaelsteven                                    </td></tr>\n",
       "\t<tr><th scope=row>37</th><td>0                                                </td><td>https://www.inaturalist.org/observations/16915032</td><td>2017                                             </td><td>16915032                                         </td><td>2017-05-26                                       </td><td> 18.515877                                       </td><td> -99.012753                                      </td><td>   15                                            </td><td>research                                         </td><td>CC-BY-NC                                         </td><td>FALSE                                            </td><td> 41387                                           </td><td>josue__hdz                                       </td></tr>\n",
       "\t<tr><th scope=row>38</th><td>0                                                </td><td>https://www.inaturalist.org/observations/17224027</td><td>2018                                             </td><td>17224027                                         </td><td>2018-10-04                                       </td><td> 23.447104                                       </td><td>-109.972120                                      </td><td>  122                                            </td><td>research                                         </td><td>CC-BY-NC                                         </td><td>FALSE                                            </td><td> 40309                                           </td><td>osielalejandrofloresrosas                        </td></tr>\n",
       "\t<tr><th scope=row>...</th><td>...</td><td>...</td><td>...</td><td>...</td><td>...</td><td>...</td><td>...</td><td>...</td><td>...</td><td>...</td><td>...</td><td>...</td><td>...</td></tr>\n",
       "\t<tr><th scope=row>964</th><td>1                                                </td><td>https://www.inaturalist.org/observations/72514241</td><td>2020                                             </td><td>72514241                                         </td><td>2020-09-30                                       </td><td> 54.371096                                       </td><td>  83.959558                                      </td><td>  31                                             </td><td>research                                         </td><td>CC-BY-NC                                         </td><td>FALSE                                            </td><td>  74928                                          </td><td>sibats                                           </td></tr>\n",
       "\t<tr><th scope=row>965</th><td>1                                                </td><td>https://www.inaturalist.org/observations/72514242</td><td>2020                                             </td><td>72514242                                         </td><td>2020-09-30                                       </td><td> 54.368485                                       </td><td>  83.968262                                      </td><td>  31                                             </td><td>needs_id                                         </td><td>CC-BY-NC                                         </td><td>FALSE                                            </td><td>  40308                                          </td><td>sibats                                           </td></tr>\n",
       "\t<tr><th scope=row>968</th><td>0                                                </td><td>https://www.inaturalist.org/observations/72928491</td><td>2015                                             </td><td>72928491                                         </td><td>2015-11-22                                       </td><td>-10.988247                                       </td><td> -65.928711                                      </td><td>   4                                             </td><td>research                                         </td><td>CC-BY                                            </td><td>FALSE                                            </td><td>  41396                                          </td><td>vincentvosriberalta                              </td></tr>\n",
       "\t<tr><th scope=row>969</th><td>0                                                </td><td>https://www.inaturalist.org/observations/73316936</td><td>2020                                             </td><td>73316936                                         </td><td>2020-12-16                                       </td><td> 18.776506                                       </td><td> -90.635383                                      </td><td>   5                                             </td><td>research                                         </td><td>CC-BY                                            </td><td>FALSE                                            </td><td>  74602                                          </td><td>giovalencia                                      </td></tr>\n",
       "\t<tr><th scope=row>970</th><td>1                                                </td><td>https://www.inaturalist.org/observations/73316940</td><td>2020                                             </td><td>73316940                                         </td><td>2020-10-14                                       </td><td> 18.776547                                       </td><td> -90.635322                                      </td><td>   5                                             </td><td>research                                         </td><td>CC-BY                                            </td><td>FALSE                                            </td><td>  41006                                          </td><td>giovalencia                                      </td></tr>\n",
       "\t<tr><th scope=row>971</th><td>0                                                </td><td>https://www.inaturalist.org/observations/73318693</td><td>2020                                             </td><td>73318693                                         </td><td>2020-10-14                                       </td><td> 18.776608                                       </td><td> -90.634439                                      </td><td>   5                                             </td><td>research                                         </td><td>CC-BY                                            </td><td>FALSE                                            </td><td> 197799                                          </td><td>giovalencia                                      </td></tr>\n",
       "\t<tr><th scope=row>972</th><td>0                                                </td><td>https://www.inaturalist.org/observations/73319757</td><td>2020                                             </td><td>73319757                                         </td><td>2020-11-25                                       </td><td> 18.812111                                       </td><td> -90.648003                                      </td><td>   5                                             </td><td>research                                         </td><td>CC-BY                                            </td><td>FALSE                                            </td><td>1067750                                          </td><td>giovalencia                                      </td></tr>\n",
       "\t<tr><th scope=row>973</th><td>0                                                </td><td>https://www.inaturalist.org/observations/73319885</td><td>2020                                             </td><td>73319885                                         </td><td>2020-11-12                                       </td><td> 18.812247                                       </td><td> -90.647828                                      </td><td>  50                                             </td><td>research                                         </td><td>CC-BY                                            </td><td>FALSE                                            </td><td>  41153                                          </td><td>giovalencia                                      </td></tr>\n",
       "\t<tr><th scope=row>974</th><td>0                                                </td><td>https://www.inaturalist.org/observations/73320402</td><td>2020                                             </td><td>73320402                                         </td><td>2020-10-15                                       </td><td> 18.776519                                       </td><td> -90.635314                                      </td><td>   5                                             </td><td>research                                         </td><td>CC-BY                                            </td><td>FALSE                                            </td><td>  41090                                          </td><td>giovalencia                                      </td></tr>\n",
       "\t<tr><th scope=row>975</th><td>0                                                </td><td>https://www.inaturalist.org/observations/735572  </td><td>2014                                             </td><td>735572                                           </td><td>2014-02-22                                       </td><td> 18.335325                                       </td><td> -66.468072                                      </td><td> 794                                             </td><td>research                                         </td><td>CC-BY-NC                                         </td><td>FALSE                                            </td><td>  41175                                          </td><td>sas103                                           </td></tr>\n",
       "\t<tr><th scope=row>978</th><td>1                                                </td><td>https://www.inaturalist.org/observations/73948061</td><td>2020                                             </td><td>73948061                                         </td><td>2020-12-04                                       </td><td>  4.900400                                       </td><td> -70.633050                                      </td><td> 145                                             </td><td>research                                         </td><td>CC-BY-NC                                         </td><td>FALSE                                            </td><td>  41019                                          </td><td>kevingg2010                                      </td></tr>\n",
       "\t<tr><th scope=row>980</th><td>1                                                </td><td>https://www.inaturalist.org/observations/74104648</td><td>2021                                             </td><td>74104648                                         </td><td>2021-04-15                                       </td><td>-26.872289                                       </td><td> -49.181824                                      </td><td>  31                                             </td><td>needs_id                                         </td><td>CC-BY                                            </td><td>FALSE                                            </td><td>  40477                                          </td><td>carloshrussi                                     </td></tr>\n",
       "\t<tr><th scope=row>982</th><td>1                                                </td><td>https://www.inaturalist.org/observations/76812   </td><td>2012                                             </td><td>76812                                            </td><td>2012-05-09                                       </td><td> 41.359830                                       </td><td> -81.583711                                      </td><td>   5                                             </td><td>research                                         </td><td>CC-BY                                            </td><td>FALSE                                            </td><td>  40522                                          </td><td>mperdicas                                        </td></tr>\n",
       "\t<tr><th scope=row>983</th><td>1                                                </td><td>https://www.inaturalist.org/observations/7700549 </td><td>2001                                             </td><td>7700549                                          </td><td>2001-07-01                                       </td><td> 50.621981                                       </td><td>-117.819663                                      </td><td> 122                                             </td><td>research                                         </td><td>CC-BY-NC                                         </td><td>FALSE                                            </td><td>  74205                                          </td><td>hardinglee                                       </td></tr>\n",
       "\t<tr><th scope=row>984</th><td>1                                                </td><td>https://www.inaturalist.org/observations/7943910 </td><td>2017                                             </td><td>7943910                                          </td><td>2017-09-01                                       </td><td>  6.869166                                       </td><td>   4.287415                                      </td><td>1953                                             </td><td>research                                         </td><td>CC-BY-NC                                         </td><td>FALSE                                            </td><td> 183168                                          </td><td>taiyeadeyanju                                    </td></tr>\n",
       "\t<tr><th scope=row>985</th><td>0                                                </td><td>https://www.inaturalist.org/observations/8628945 </td><td>1986                                             </td><td>8628945                                          </td><td>1986-02-11                                       </td><td> 49.228175                                       </td><td>  -2.075276                                      </td><td> 179                                             </td><td>research                                         </td><td>CC0                                              </td><td>FALSE                                            </td><td>  40415                                          </td><td>simontonge                                       </td></tr>\n",
       "\t<tr><th scope=row>986</th><td>0                                                </td><td>https://www.inaturalist.org/observations/8657196 </td><td>2017                                             </td><td>8657196                                          </td><td>2017-07-09                                       </td><td> 22.226485                                       </td><td> -98.954061                                      </td><td> 135                                             </td><td>needs_id                                         </td><td>CC-BY-NC-SA                                      </td><td>FALSE                                            </td><td>  41216                                          </td><td>juancruzado                                      </td></tr>\n",
       "\t<tr><th scope=row>987</th><td>0                                                </td><td>https://www.inaturalist.org/observations/8889540 </td><td>2016                                             </td><td>8889540                                          </td><td>2016-07-12                                       </td><td>  6.656958                                       </td><td> 100.399672                                      </td><td>1598                                             </td><td>research                                         </td><td>CC-BY-NC                                         </td><td>FALSE                                            </td><td>  40676                                          </td><td>charliev                                         </td></tr>\n",
       "\t<tr><th scope=row>988</th><td>1                                                </td><td>https://www.inaturalist.org/observations/9166117 </td><td>2002                                             </td><td>9166117                                          </td><td>2002-09-24                                       </td><td> 20.871858                                       </td><td> -86.895150                                      </td><td>   0                                             </td><td>needs_id                                         </td><td>CC-BY-NC                                         </td><td>FALSE                                            </td><td>  40991                                          </td><td>victornc                                         </td></tr>\n",
       "\t<tr><th scope=row>989</th><td>1                                                </td><td>https://www.inaturalist.org/observations/9166124 </td><td>2002                                             </td><td>9166124                                          </td><td>2002-09-24                                       </td><td> 20.871858                                       </td><td> -86.895150                                      </td><td>   0                                             </td><td>research                                         </td><td>CC-BY-NC                                         </td><td>FALSE                                            </td><td>  41017                                          </td><td>victornc                                         </td></tr>\n",
       "\t<tr><th scope=row>990</th><td>0                                                </td><td>https://www.inaturalist.org/observations/9218473 </td><td>2003                                             </td><td>9218473                                          </td><td>2003-04-21                                       </td><td> 20.448567                                       </td><td> -87.281565                                      </td><td>   8                                             </td><td>research                                         </td><td>CC-BY-NC                                         </td><td>FALSE                                            </td><td>  41090                                          </td><td>victornc                                         </td></tr>\n",
       "\t<tr><th scope=row>991</th><td>1                                                </td><td>https://www.inaturalist.org/observations/9218487 </td><td>2003                                             </td><td>9218487                                          </td><td>2003-04-21                                       </td><td> 20.448567                                       </td><td> -87.281565                                      </td><td>   0                                             </td><td>research                                         </td><td>CC-BY-NC                                         </td><td>FALSE                                            </td><td> 197799                                          </td><td>victornc                                         </td></tr>\n",
       "\t<tr><th scope=row>992</th><td>0                                                </td><td>https://www.inaturalist.org/observations/9344403 </td><td>2003                                             </td><td>9344403                                          </td><td>2003-11-05                                       </td><td>-16.751948                                       </td><td> -67.214355                                      </td><td>   0                                             </td><td>needs_id                                         </td><td>CC-BY-NC                                         </td><td>FALSE                                            </td><td>  41090                                          </td><td>ahospers                                         </td></tr>\n",
       "\t<tr><th scope=row>993</th><td>1                                                </td><td>https://www.inaturalist.org/observations/93978   </td><td>2012                                             </td><td>93978                                            </td><td>2012-06-20                                       </td><td> 41.235559                                       </td><td> -81.707045                                      </td><td>   5                                             </td><td>research                                         </td><td>CC-BY                                            </td><td>FALSE                                            </td><td>  74719                                          </td><td>mperdicas                                        </td></tr>\n",
       "\t<tr><th scope=row>994</th><td>1                                                </td><td>https://www.inaturalist.org/observations/93979   </td><td>2012                                             </td><td>93979                                            </td><td>2012-06-20                                       </td><td> 41.205414                                       </td><td> -81.605431                                      </td><td>   5                                             </td><td>research                                         </td><td>CC-BY                                            </td><td>FALSE                                            </td><td>  40509                                          </td><td>mperdicas                                        </td></tr>\n",
       "\t<tr><th scope=row>995</th><td>1                                                </td><td>https://www.inaturalist.org/observations/93980   </td><td>2012                                             </td><td>93980                                            </td><td>2012-06-21                                       </td><td> 41.214525                                       </td><td> -81.680020                                      </td><td>   5                                             </td><td>research                                         </td><td>CC-BY                                            </td><td>FALSE                                            </td><td> 183166                                          </td><td>mperdicas                                        </td></tr>\n",
       "\t<tr><th scope=row>996</th><td>1                                                </td><td>https://www.inaturalist.org/observations/9529350 </td><td>2017                                             </td><td>9529350                                          </td><td>2017-08-20                                       </td><td> 31.609505                                       </td><td> -98.905747                                      </td><td>   6                                             </td><td>research                                         </td><td>CC0                                              </td><td>FALSE                                            </td><td>  41301                                          </td><td>madisong                                         </td></tr>\n",
       "\t<tr><th scope=row>997</th><td>0                                                </td><td>https://www.inaturalist.org/observations/9544300 </td><td>2004                                             </td><td>9544300                                          </td><td>2004-11-27                                       </td><td>-44.857656                                       </td><td> 168.050924                                      </td><td>1474                                             </td><td>research                                         </td><td>CC-BY                                            </td><td>FALSE                                            </td><td>  41213                                          </td><td>riskindan                                        </td></tr>\n",
       "\t<tr><th scope=row>998</th><td>0                                                </td><td>https://www.inaturalist.org/observations/9674556 </td><td>2018                                             </td><td>9674556                                          </td><td>2018-01-09                                       </td><td>  9.049298                                       </td><td> -83.614674                                      </td><td>1907                                             </td><td>needs_id                                         </td><td>CC-BY-NC                                         </td><td>FALSE                                            </td><td>  40991                                          </td><td>sgosch                                           </td></tr>\n",
       "\t<tr><th scope=row>999</th><td>0                                                </td><td>https://www.naturalista.mx/observations/5373726  </td><td>2009                                             </td><td>5373726                                          </td><td>2009-12-22                                       </td><td> 19.342980                                       </td><td> -96.721195                                      </td><td>   2                                             </td><td>research                                         </td><td>CC-BY                                            </td><td>FALSE                                            </td><td> 197800                                          </td><td>tereso30                                         </td></tr>\n",
       "</tbody>\n",
       "</table>\n"
      ],
      "text/latex": [
       "\\begin{tabular}{r|lllllllllllll}\n",
       "  & gloveOrHand & observation & year & iNaturalistID & observed\\_on & latitude & longitude & positional\\_accuracy & quality\\_grade & license & captive & taxon\\_id & recorded\\_by\\\\\n",
       "\\hline\n",
       "\t1 & 1                                                 & https://www.inaturalist.org/observations/100665   & 2012                                              & 100665                                            & 2012-07-10                                        &  41.011000                                        &  -81.684333                                       &     0                                             & research                                          & CC-BY                                             & FALSE                                             &  40509                                            & jwhittle                                         \\\\\n",
       "\t3 & 0                                                 & https://www.inaturalist.org/observations/10623008 & 2018                                              & 10623008                                          & 2018-03-16                                        &  42.158061                                        &    9.398053                                       &     0                                             & research                                          & CC-BY                                             & FALSE                                             &  40695                                            & jujurenoult                                      \\\\\n",
       "\t4 & 0                                                 & https://www.inaturalist.org/observations/10868671 & 2018                                              & 10868671                                          & 2018-02-17                                        &  19.508945                                        & -103.710766                                       &  1030                                             & needs\\_id                                        & CC-BY-NC                                          & FALSE                                             &  40992                                            & zamboiro                                         \\\\\n",
       "\t5 & 0                                                 & https://www.inaturalist.org/observations/112578   & 2012                                              & 112578                                            & 2012-04-13                                        &   4.746486                                        &  -76.293932                                       &  2118                                             & needs\\_id                                        & CC-BY                                             & FALSE                                             &  41039                                            & damonsalveo                                      \\\\\n",
       "\t6 & 1                                                 & https://www.inaturalist.org/observations/11388729 & 2018                                              & 11388729                                          & 2018-04-18                                        &  41.606241                                        &  -73.051556                                       &  5888                                             & research                                          & CC-BY-NC                                          & FALSE                                             &  40523                                            & lindabowen                                       \\\\\n",
       "\t7 & 0                                                 & https://www.inaturalist.org/observations/117460   & 2012                                              & 117460                                            & 2012-08-28                                        &  41.298249                                        &  -81.456460                                       &     0                                             & research                                          & CC-BY                                             & FALSE                                             & 183166                                            & mperdicas                                        \\\\\n",
       "\t10 & 0                                                 & https://www.inaturalist.org/observations/120500   & 2010                                              & 120500                                            & 2010-10-18                                        &   7.743067                                        &  -72.558583                                       &     0                                             & research                                          & CC-BY-NC                                          & FALSE                                             &  74518                                            & arleyo                                           \\\\\n",
       "\t12 & 0                                                 & https://www.inaturalist.org/observations/121810   & 2012                                              & 121810                                            & 2012-09-11                                        &  41.274409                                        &  -81.497865                                       &     0                                             & research                                          & CC-BY                                             & FALSE                                             &  40349                                            & jwhittle                                         \\\\\n",
       "\t13 & 0                                                 & https://www.inaturalist.org/observations/122214   & 2012                                              & 122214                                            & 2012-09-13                                        &  42.582826                                        &  -80.398481                                       &   100                                             & research                                          & CC-BY-NC                                          & FALSE                                             &  40629                                            & pcatling                                         \\\\\n",
       "\t14 & 1                                                 & https://www.inaturalist.org/observations/123931   & 2007                                              & 123931                                            & 2007-01-02                                        &  10.379174                                        &  -84.110749                                       &     0                                             & research                                          & CC-BY-NC                                          & FALSE                                             &  41221                                            & kucycads                                         \\\\\n",
       "\t15 & 0                                                 & https://www.inaturalist.org/observations/123965   & 2007                                              & 123965                                            & 2007-01-06                                        &  10.379174                                        &  -84.110749                                       &     0                                             & research                                          & CC-BY-NC                                          & FALSE                                             &  41005                                            & kucycads                                         \\\\\n",
       "\t16 & 1                                                 & https://www.inaturalist.org/observations/12519390 & 2004                                              & 12519390                                          & 2004-08-10                                        &  21.091626                                        &  -89.595612                                       &   421                                             & needs\\_id                                        & CC-BY-ND                                          & FALSE                                             &  40992                                            & luis\\_diaz-gamboa                               \\\\\n",
       "\t17 & 1                                                 & https://www.inaturalist.org/observations/125920   & 2012                                              & 125920                                            & 2012-08-27                                        &   5.524271                                        &  -74.873124                                       &     0                                             & needs\\_id                                        & CC-BY-NC                                          & FALSE                                             &  41226                                            & biologist13                                      \\\\\n",
       "\t18 & 0                                                 & https://www.inaturalist.org/observations/126323   & 2007                                              & 126323                                            & 2007-01-12                                        &  10.546194                                        &  -84.005727                                       &  3537                                             & research                                          & CC-BY-NC                                          & FALSE                                             &  41057                                            & kucycads                                         \\\\\n",
       "\t19 & 1                                                 & https://www.inaturalist.org/observations/127029   & 2008                                              & 127029                                            & 2008-10-02                                        &  35.067167                                        & -109.780347                                       &    54                                             & research                                          & CC-BY-NC                                          & FALSE                                             &  40342                                            & kucycads                                         \\\\\n",
       "\t21 & 0                                                 & https://www.inaturalist.org/observations/1296911  & 2008                                              & 1296911                                           & 2008-08-31                                        &  44.911615                                        &    7.788198                                       &   100                                             & research                                          & CC-BY-NC                                          & FALSE                                             &  40383                                            & roberto\\_sindaco                                \\\\\n",
       "\t22 & 0                                                 & https://www.inaturalist.org/observations/131187   & 2011                                              & 131187                                            & 2011-07-12                                        &  53.222627                                        &    6.773069                                       &  1174                                             & research                                          & CC-BY                                             & FALSE                                             &  40308                                            & torwart                                          \\\\\n",
       "\t25 & 1                                                 & https://www.inaturalist.org/observations/133279   & 2012                                              & 133279                                            & 2012-05-19                                        &  40.233035                                        &  -83.035462                                       &     0                                             & research                                          & CC-BY                                             & FALSE                                             &  40509                                            & jwhittle                                         \\\\\n",
       "\t26 & 0                                                 & https://www.inaturalist.org/observations/136033   & 2009                                              & 136033                                            & 2009-08-23                                        &   5.929048                                        &    0.073490                                       &     0                                             & research                                          & CC-BY                                             & FALSE                                             & 183177                                            & jakob                                            \\\\\n",
       "\t27 & 0                                                 & https://www.inaturalist.org/observations/139000   & 2011                                              & 139000                                            & 2011-07-24                                        &  37.379789                                        & -121.728743                                       &     0                                             & research                                          & CC-BY-NC                                          & FALSE                                             &  41301                                            & edwardrooks                                      \\\\\n",
       "\t28 & 1                                                 & https://www.inaturalist.org/observations/140571   & 2009                                              & 140571                                            & 2009-08-02                                        &  -5.092889                                        &   38.615167                                       &   300                                             & research                                          & CC0                                               & FALSE                                             &  40966                                            & carrieseltzer                                    \\\\\n",
       "\t29 & 1                                                 & https://www.inaturalist.org/observations/140580   & 2009                                              & 140580                                            & 2009-07-26                                        &  -5.099683                                        &   38.624317                                       &    20                                             & needs\\_id                                        & CC0                                               & FALSE                                             &  40585                                            & carrieseltzer                                    \\\\\n",
       "\t30 & 1                                                 & https://www.inaturalist.org/observations/140597   & 2011                                              & 140597                                            & 2011-03-11                                        &  -5.098987                                        &   38.632182                                       &    30                                             & research                                          & CC0                                               & FALSE                                             &  40811                                            & carrieseltzer                                    \\\\\n",
       "\t31 & 1                                                 & https://www.inaturalist.org/observations/14204583 & 2018                                              & 14204583                                          & 2018-07-06                                        &  34.109141                                        &  -90.159799                                       &     0                                             & research                                          & CC-BY-NC                                          & FALSE                                             & 183166                                            & cricketfrog13                                    \\\\\n",
       "\t32 & 0                                                 & https://www.inaturalist.org/observations/14635875 & 2017                                              & 14635875                                          & 2017-12-09                                        &  16.973000                                        &  122.198024                                       & 12688                                             & needs\\_id                                        & CC-BY-NC                                          & FALSE                                             &  74298                                            & ryan367                                          \\\\\n",
       "\t33 & 0                                                 & https://www.inaturalist.org/observations/15686267 & 2018                                              & 15686267                                          & 2018-08-19                                        & -21.884813                                        &  125.544615                                       &     0                                             & needs\\_id                                        & CC-BY                                             & FALSE                                             &  40268                                            & questagame                                       \\\\\n",
       "\t34 & 0                                                 & https://www.inaturalist.org/observations/16162774 & 2018                                              & 16162774                                          & 2018-08-16                                        &  44.697237                                        &    8.152634                                       &     6                                             & research                                          & CC-BY-NC                                          & FALSE                                             &  40291                                            & rtoffoli                                         \\\\\n",
       "\t35 & 0                                                 & https://www.inaturalist.org/observations/16202689 & 2018                                              & 16202689                                          & 2018-07-14                                        &   6.325299                                        &  -73.948875                                       &   132                                             & research                                          & CC-BY-NC                                          & FALSE                                             &  41153                                            & michaelsteven                                    \\\\\n",
       "\t37 & 0                                                 & https://www.inaturalist.org/observations/16915032 & 2017                                              & 16915032                                          & 2017-05-26                                        &  18.515877                                        &  -99.012753                                       &    15                                             & research                                          & CC-BY-NC                                          & FALSE                                             &  41387                                            & josue\\_\\_hdz                                   \\\\\n",
       "\t38 & 0                                                 & https://www.inaturalist.org/observations/17224027 & 2018                                              & 17224027                                          & 2018-10-04                                        &  23.447104                                        & -109.972120                                       &   122                                             & research                                          & CC-BY-NC                                          & FALSE                                             &  40309                                            & osielalejandrofloresrosas                        \\\\\n",
       "\t... & ... & ... & ... & ... & ... & ... & ... & ... & ... & ... & ... & ... & ...\\\\\n",
       "\t964 & 1                                                 & https://www.inaturalist.org/observations/72514241 & 2020                                              & 72514241                                          & 2020-09-30                                        &  54.371096                                        &   83.959558                                       &   31                                              & research                                          & CC-BY-NC                                          & FALSE                                             &   74928                                           & sibats                                           \\\\\n",
       "\t965 & 1                                                 & https://www.inaturalist.org/observations/72514242 & 2020                                              & 72514242                                          & 2020-09-30                                        &  54.368485                                        &   83.968262                                       &   31                                              & needs\\_id                                        & CC-BY-NC                                          & FALSE                                             &   40308                                           & sibats                                           \\\\\n",
       "\t968 & 0                                                 & https://www.inaturalist.org/observations/72928491 & 2015                                              & 72928491                                          & 2015-11-22                                        & -10.988247                                        &  -65.928711                                       &    4                                              & research                                          & CC-BY                                             & FALSE                                             &   41396                                           & vincentvosriberalta                              \\\\\n",
       "\t969 & 0                                                 & https://www.inaturalist.org/observations/73316936 & 2020                                              & 73316936                                          & 2020-12-16                                        &  18.776506                                        &  -90.635383                                       &    5                                              & research                                          & CC-BY                                             & FALSE                                             &   74602                                           & giovalencia                                      \\\\\n",
       "\t970 & 1                                                 & https://www.inaturalist.org/observations/73316940 & 2020                                              & 73316940                                          & 2020-10-14                                        &  18.776547                                        &  -90.635322                                       &    5                                              & research                                          & CC-BY                                             & FALSE                                             &   41006                                           & giovalencia                                      \\\\\n",
       "\t971 & 0                                                 & https://www.inaturalist.org/observations/73318693 & 2020                                              & 73318693                                          & 2020-10-14                                        &  18.776608                                        &  -90.634439                                       &    5                                              & research                                          & CC-BY                                             & FALSE                                             &  197799                                           & giovalencia                                      \\\\\n",
       "\t972 & 0                                                 & https://www.inaturalist.org/observations/73319757 & 2020                                              & 73319757                                          & 2020-11-25                                        &  18.812111                                        &  -90.648003                                       &    5                                              & research                                          & CC-BY                                             & FALSE                                             & 1067750                                           & giovalencia                                      \\\\\n",
       "\t973 & 0                                                 & https://www.inaturalist.org/observations/73319885 & 2020                                              & 73319885                                          & 2020-11-12                                        &  18.812247                                        &  -90.647828                                       &   50                                              & research                                          & CC-BY                                             & FALSE                                             &   41153                                           & giovalencia                                      \\\\\n",
       "\t974 & 0                                                 & https://www.inaturalist.org/observations/73320402 & 2020                                              & 73320402                                          & 2020-10-15                                        &  18.776519                                        &  -90.635314                                       &    5                                              & research                                          & CC-BY                                             & FALSE                                             &   41090                                           & giovalencia                                      \\\\\n",
       "\t975 & 0                                                 & https://www.inaturalist.org/observations/735572   & 2014                                              & 735572                                            & 2014-02-22                                        &  18.335325                                        &  -66.468072                                       &  794                                              & research                                          & CC-BY-NC                                          & FALSE                                             &   41175                                           & sas103                                           \\\\\n",
       "\t978 & 1                                                 & https://www.inaturalist.org/observations/73948061 & 2020                                              & 73948061                                          & 2020-12-04                                        &   4.900400                                        &  -70.633050                                       &  145                                              & research                                          & CC-BY-NC                                          & FALSE                                             &   41019                                           & kevingg2010                                      \\\\\n",
       "\t980 & 1                                                 & https://www.inaturalist.org/observations/74104648 & 2021                                              & 74104648                                          & 2021-04-15                                        & -26.872289                                        &  -49.181824                                       &   31                                              & needs\\_id                                        & CC-BY                                             & FALSE                                             &   40477                                           & carloshrussi                                     \\\\\n",
       "\t982 & 1                                                 & https://www.inaturalist.org/observations/76812    & 2012                                              & 76812                                             & 2012-05-09                                        &  41.359830                                        &  -81.583711                                       &    5                                              & research                                          & CC-BY                                             & FALSE                                             &   40522                                           & mperdicas                                        \\\\\n",
       "\t983 & 1                                                 & https://www.inaturalist.org/observations/7700549  & 2001                                              & 7700549                                           & 2001-07-01                                        &  50.621981                                        & -117.819663                                       &  122                                              & research                                          & CC-BY-NC                                          & FALSE                                             &   74205                                           & hardinglee                                       \\\\\n",
       "\t984 & 1                                                 & https://www.inaturalist.org/observations/7943910  & 2017                                              & 7943910                                           & 2017-09-01                                        &   6.869166                                        &    4.287415                                       & 1953                                              & research                                          & CC-BY-NC                                          & FALSE                                             &  183168                                           & taiyeadeyanju                                    \\\\\n",
       "\t985 & 0                                                 & https://www.inaturalist.org/observations/8628945  & 1986                                              & 8628945                                           & 1986-02-11                                        &  49.228175                                        &   -2.075276                                       &  179                                              & research                                          & CC0                                               & FALSE                                             &   40415                                           & simontonge                                       \\\\\n",
       "\t986 & 0                                                 & https://www.inaturalist.org/observations/8657196  & 2017                                              & 8657196                                           & 2017-07-09                                        &  22.226485                                        &  -98.954061                                       &  135                                              & needs\\_id                                        & CC-BY-NC-SA                                       & FALSE                                             &   41216                                           & juancruzado                                      \\\\\n",
       "\t987 & 0                                                 & https://www.inaturalist.org/observations/8889540  & 2016                                              & 8889540                                           & 2016-07-12                                        &   6.656958                                        &  100.399672                                       & 1598                                              & research                                          & CC-BY-NC                                          & FALSE                                             &   40676                                           & charliev                                         \\\\\n",
       "\t988 & 1                                                 & https://www.inaturalist.org/observations/9166117  & 2002                                              & 9166117                                           & 2002-09-24                                        &  20.871858                                        &  -86.895150                                       &    0                                              & needs\\_id                                        & CC-BY-NC                                          & FALSE                                             &   40991                                           & victornc                                         \\\\\n",
       "\t989 & 1                                                 & https://www.inaturalist.org/observations/9166124  & 2002                                              & 9166124                                           & 2002-09-24                                        &  20.871858                                        &  -86.895150                                       &    0                                              & research                                          & CC-BY-NC                                          & FALSE                                             &   41017                                           & victornc                                         \\\\\n",
       "\t990 & 0                                                 & https://www.inaturalist.org/observations/9218473  & 2003                                              & 9218473                                           & 2003-04-21                                        &  20.448567                                        &  -87.281565                                       &    8                                              & research                                          & CC-BY-NC                                          & FALSE                                             &   41090                                           & victornc                                         \\\\\n",
       "\t991 & 1                                                 & https://www.inaturalist.org/observations/9218487  & 2003                                              & 9218487                                           & 2003-04-21                                        &  20.448567                                        &  -87.281565                                       &    0                                              & research                                          & CC-BY-NC                                          & FALSE                                             &  197799                                           & victornc                                         \\\\\n",
       "\t992 & 0                                                 & https://www.inaturalist.org/observations/9344403  & 2003                                              & 9344403                                           & 2003-11-05                                        & -16.751948                                        &  -67.214355                                       &    0                                              & needs\\_id                                        & CC-BY-NC                                          & FALSE                                             &   41090                                           & ahospers                                         \\\\\n",
       "\t993 & 1                                                 & https://www.inaturalist.org/observations/93978    & 2012                                              & 93978                                             & 2012-06-20                                        &  41.235559                                        &  -81.707045                                       &    5                                              & research                                          & CC-BY                                             & FALSE                                             &   74719                                           & mperdicas                                        \\\\\n",
       "\t994 & 1                                                 & https://www.inaturalist.org/observations/93979    & 2012                                              & 93979                                             & 2012-06-20                                        &  41.205414                                        &  -81.605431                                       &    5                                              & research                                          & CC-BY                                             & FALSE                                             &   40509                                           & mperdicas                                        \\\\\n",
       "\t995 & 1                                                 & https://www.inaturalist.org/observations/93980    & 2012                                              & 93980                                             & 2012-06-21                                        &  41.214525                                        &  -81.680020                                       &    5                                              & research                                          & CC-BY                                             & FALSE                                             &  183166                                           & mperdicas                                        \\\\\n",
       "\t996 & 1                                                 & https://www.inaturalist.org/observations/9529350  & 2017                                              & 9529350                                           & 2017-08-20                                        &  31.609505                                        &  -98.905747                                       &    6                                              & research                                          & CC0                                               & FALSE                                             &   41301                                           & madisong                                         \\\\\n",
       "\t997 & 0                                                 & https://www.inaturalist.org/observations/9544300  & 2004                                              & 9544300                                           & 2004-11-27                                        & -44.857656                                        &  168.050924                                       & 1474                                              & research                                          & CC-BY                                             & FALSE                                             &   41213                                           & riskindan                                        \\\\\n",
       "\t998 & 0                                                 & https://www.inaturalist.org/observations/9674556  & 2018                                              & 9674556                                           & 2018-01-09                                        &   9.049298                                        &  -83.614674                                       & 1907                                              & needs\\_id                                        & CC-BY-NC                                          & FALSE                                             &   40991                                           & sgosch                                           \\\\\n",
       "\t999 & 0                                                 & https://www.naturalista.mx/observations/5373726   & 2009                                              & 5373726                                           & 2009-12-22                                        &  19.342980                                        &  -96.721195                                       &    2                                              & research                                          & CC-BY                                             & FALSE                                             &  197800                                           & tereso30                                         \\\\\n",
       "\\end{tabular}\n"
      ],
      "text/markdown": [
       "\n",
       "| <!--/--> | gloveOrHand | observation | year | iNaturalistID | observed_on | latitude | longitude | positional_accuracy | quality_grade | license | captive | taxon_id | recorded_by |\n",
       "|---|---|---|---|---|---|---|---|---|---|---|---|---|---|\n",
       "| 1 | 1                                                 | https://www.inaturalist.org/observations/100665   | 2012                                              | 100665                                            | 2012-07-10                                        |  41.011000                                        |  -81.684333                                       |     0                                             | research                                          | CC-BY                                             | FALSE                                             |  40509                                            | jwhittle                                          |\n",
       "| 3 | 0                                                 | https://www.inaturalist.org/observations/10623008 | 2018                                              | 10623008                                          | 2018-03-16                                        |  42.158061                                        |    9.398053                                       |     0                                             | research                                          | CC-BY                                             | FALSE                                             |  40695                                            | jujurenoult                                       |\n",
       "| 4 | 0                                                 | https://www.inaturalist.org/observations/10868671 | 2018                                              | 10868671                                          | 2018-02-17                                        |  19.508945                                        | -103.710766                                       |  1030                                             | needs_id                                          | CC-BY-NC                                          | FALSE                                             |  40992                                            | zamboiro                                          |\n",
       "| 5 | 0                                                 | https://www.inaturalist.org/observations/112578   | 2012                                              | 112578                                            | 2012-04-13                                        |   4.746486                                        |  -76.293932                                       |  2118                                             | needs_id                                          | CC-BY                                             | FALSE                                             |  41039                                            | damonsalveo                                       |\n",
       "| 6 | 1                                                 | https://www.inaturalist.org/observations/11388729 | 2018                                              | 11388729                                          | 2018-04-18                                        |  41.606241                                        |  -73.051556                                       |  5888                                             | research                                          | CC-BY-NC                                          | FALSE                                             |  40523                                            | lindabowen                                        |\n",
       "| 7 | 0                                                 | https://www.inaturalist.org/observations/117460   | 2012                                              | 117460                                            | 2012-08-28                                        |  41.298249                                        |  -81.456460                                       |     0                                             | research                                          | CC-BY                                             | FALSE                                             | 183166                                            | mperdicas                                         |\n",
       "| 10 | 0                                                 | https://www.inaturalist.org/observations/120500   | 2010                                              | 120500                                            | 2010-10-18                                        |   7.743067                                        |  -72.558583                                       |     0                                             | research                                          | CC-BY-NC                                          | FALSE                                             |  74518                                            | arleyo                                            |\n",
       "| 12 | 0                                                 | https://www.inaturalist.org/observations/121810   | 2012                                              | 121810                                            | 2012-09-11                                        |  41.274409                                        |  -81.497865                                       |     0                                             | research                                          | CC-BY                                             | FALSE                                             |  40349                                            | jwhittle                                          |\n",
       "| 13 | 0                                                 | https://www.inaturalist.org/observations/122214   | 2012                                              | 122214                                            | 2012-09-13                                        |  42.582826                                        |  -80.398481                                       |   100                                             | research                                          | CC-BY-NC                                          | FALSE                                             |  40629                                            | pcatling                                          |\n",
       "| 14 | 1                                                 | https://www.inaturalist.org/observations/123931   | 2007                                              | 123931                                            | 2007-01-02                                        |  10.379174                                        |  -84.110749                                       |     0                                             | research                                          | CC-BY-NC                                          | FALSE                                             |  41221                                            | kucycads                                          |\n",
       "| 15 | 0                                                 | https://www.inaturalist.org/observations/123965   | 2007                                              | 123965                                            | 2007-01-06                                        |  10.379174                                        |  -84.110749                                       |     0                                             | research                                          | CC-BY-NC                                          | FALSE                                             |  41005                                            | kucycads                                          |\n",
       "| 16 | 1                                                 | https://www.inaturalist.org/observations/12519390 | 2004                                              | 12519390                                          | 2004-08-10                                        |  21.091626                                        |  -89.595612                                       |   421                                             | needs_id                                          | CC-BY-ND                                          | FALSE                                             |  40992                                            | luis_diaz-gamboa                                  |\n",
       "| 17 | 1                                                 | https://www.inaturalist.org/observations/125920   | 2012                                              | 125920                                            | 2012-08-27                                        |   5.524271                                        |  -74.873124                                       |     0                                             | needs_id                                          | CC-BY-NC                                          | FALSE                                             |  41226                                            | biologist13                                       |\n",
       "| 18 | 0                                                 | https://www.inaturalist.org/observations/126323   | 2007                                              | 126323                                            | 2007-01-12                                        |  10.546194                                        |  -84.005727                                       |  3537                                             | research                                          | CC-BY-NC                                          | FALSE                                             |  41057                                            | kucycads                                          |\n",
       "| 19 | 1                                                 | https://www.inaturalist.org/observations/127029   | 2008                                              | 127029                                            | 2008-10-02                                        |  35.067167                                        | -109.780347                                       |    54                                             | research                                          | CC-BY-NC                                          | FALSE                                             |  40342                                            | kucycads                                          |\n",
       "| 21 | 0                                                 | https://www.inaturalist.org/observations/1296911  | 2008                                              | 1296911                                           | 2008-08-31                                        |  44.911615                                        |    7.788198                                       |   100                                             | research                                          | CC-BY-NC                                          | FALSE                                             |  40383                                            | roberto_sindaco                                   |\n",
       "| 22 | 0                                                 | https://www.inaturalist.org/observations/131187   | 2011                                              | 131187                                            | 2011-07-12                                        |  53.222627                                        |    6.773069                                       |  1174                                             | research                                          | CC-BY                                             | FALSE                                             |  40308                                            | torwart                                           |\n",
       "| 25 | 1                                                 | https://www.inaturalist.org/observations/133279   | 2012                                              | 133279                                            | 2012-05-19                                        |  40.233035                                        |  -83.035462                                       |     0                                             | research                                          | CC-BY                                             | FALSE                                             |  40509                                            | jwhittle                                          |\n",
       "| 26 | 0                                                 | https://www.inaturalist.org/observations/136033   | 2009                                              | 136033                                            | 2009-08-23                                        |   5.929048                                        |    0.073490                                       |     0                                             | research                                          | CC-BY                                             | FALSE                                             | 183177                                            | jakob                                             |\n",
       "| 27 | 0                                                 | https://www.inaturalist.org/observations/139000   | 2011                                              | 139000                                            | 2011-07-24                                        |  37.379789                                        | -121.728743                                       |     0                                             | research                                          | CC-BY-NC                                          | FALSE                                             |  41301                                            | edwardrooks                                       |\n",
       "| 28 | 1                                                 | https://www.inaturalist.org/observations/140571   | 2009                                              | 140571                                            | 2009-08-02                                        |  -5.092889                                        |   38.615167                                       |   300                                             | research                                          | CC0                                               | FALSE                                             |  40966                                            | carrieseltzer                                     |\n",
       "| 29 | 1                                                 | https://www.inaturalist.org/observations/140580   | 2009                                              | 140580                                            | 2009-07-26                                        |  -5.099683                                        |   38.624317                                       |    20                                             | needs_id                                          | CC0                                               | FALSE                                             |  40585                                            | carrieseltzer                                     |\n",
       "| 30 | 1                                                 | https://www.inaturalist.org/observations/140597   | 2011                                              | 140597                                            | 2011-03-11                                        |  -5.098987                                        |   38.632182                                       |    30                                             | research                                          | CC0                                               | FALSE                                             |  40811                                            | carrieseltzer                                     |\n",
       "| 31 | 1                                                 | https://www.inaturalist.org/observations/14204583 | 2018                                              | 14204583                                          | 2018-07-06                                        |  34.109141                                        |  -90.159799                                       |     0                                             | research                                          | CC-BY-NC                                          | FALSE                                             | 183166                                            | cricketfrog13                                     |\n",
       "| 32 | 0                                                 | https://www.inaturalist.org/observations/14635875 | 2017                                              | 14635875                                          | 2017-12-09                                        |  16.973000                                        |  122.198024                                       | 12688                                             | needs_id                                          | CC-BY-NC                                          | FALSE                                             |  74298                                            | ryan367                                           |\n",
       "| 33 | 0                                                 | https://www.inaturalist.org/observations/15686267 | 2018                                              | 15686267                                          | 2018-08-19                                        | -21.884813                                        |  125.544615                                       |     0                                             | needs_id                                          | CC-BY                                             | FALSE                                             |  40268                                            | questagame                                        |\n",
       "| 34 | 0                                                 | https://www.inaturalist.org/observations/16162774 | 2018                                              | 16162774                                          | 2018-08-16                                        |  44.697237                                        |    8.152634                                       |     6                                             | research                                          | CC-BY-NC                                          | FALSE                                             |  40291                                            | rtoffoli                                          |\n",
       "| 35 | 0                                                 | https://www.inaturalist.org/observations/16202689 | 2018                                              | 16202689                                          | 2018-07-14                                        |   6.325299                                        |  -73.948875                                       |   132                                             | research                                          | CC-BY-NC                                          | FALSE                                             |  41153                                            | michaelsteven                                     |\n",
       "| 37 | 0                                                 | https://www.inaturalist.org/observations/16915032 | 2017                                              | 16915032                                          | 2017-05-26                                        |  18.515877                                        |  -99.012753                                       |    15                                             | research                                          | CC-BY-NC                                          | FALSE                                             |  41387                                            | josue__hdz                                        |\n",
       "| 38 | 0                                                 | https://www.inaturalist.org/observations/17224027 | 2018                                              | 17224027                                          | 2018-10-04                                        |  23.447104                                        | -109.972120                                       |   122                                             | research                                          | CC-BY-NC                                          | FALSE                                             |  40309                                            | osielalejandrofloresrosas                         |\n",
       "| ... | ... | ... | ... | ... | ... | ... | ... | ... | ... | ... | ... | ... | ... |\n",
       "| 964 | 1                                                 | https://www.inaturalist.org/observations/72514241 | 2020                                              | 72514241                                          | 2020-09-30                                        |  54.371096                                        |   83.959558                                       |   31                                              | research                                          | CC-BY-NC                                          | FALSE                                             |   74928                                           | sibats                                            |\n",
       "| 965 | 1                                                 | https://www.inaturalist.org/observations/72514242 | 2020                                              | 72514242                                          | 2020-09-30                                        |  54.368485                                        |   83.968262                                       |   31                                              | needs_id                                          | CC-BY-NC                                          | FALSE                                             |   40308                                           | sibats                                            |\n",
       "| 968 | 0                                                 | https://www.inaturalist.org/observations/72928491 | 2015                                              | 72928491                                          | 2015-11-22                                        | -10.988247                                        |  -65.928711                                       |    4                                              | research                                          | CC-BY                                             | FALSE                                             |   41396                                           | vincentvosriberalta                               |\n",
       "| 969 | 0                                                 | https://www.inaturalist.org/observations/73316936 | 2020                                              | 73316936                                          | 2020-12-16                                        |  18.776506                                        |  -90.635383                                       |    5                                              | research                                          | CC-BY                                             | FALSE                                             |   74602                                           | giovalencia                                       |\n",
       "| 970 | 1                                                 | https://www.inaturalist.org/observations/73316940 | 2020                                              | 73316940                                          | 2020-10-14                                        |  18.776547                                        |  -90.635322                                       |    5                                              | research                                          | CC-BY                                             | FALSE                                             |   41006                                           | giovalencia                                       |\n",
       "| 971 | 0                                                 | https://www.inaturalist.org/observations/73318693 | 2020                                              | 73318693                                          | 2020-10-14                                        |  18.776608                                        |  -90.634439                                       |    5                                              | research                                          | CC-BY                                             | FALSE                                             |  197799                                           | giovalencia                                       |\n",
       "| 972 | 0                                                 | https://www.inaturalist.org/observations/73319757 | 2020                                              | 73319757                                          | 2020-11-25                                        |  18.812111                                        |  -90.648003                                       |    5                                              | research                                          | CC-BY                                             | FALSE                                             | 1067750                                           | giovalencia                                       |\n",
       "| 973 | 0                                                 | https://www.inaturalist.org/observations/73319885 | 2020                                              | 73319885                                          | 2020-11-12                                        |  18.812247                                        |  -90.647828                                       |   50                                              | research                                          | CC-BY                                             | FALSE                                             |   41153                                           | giovalencia                                       |\n",
       "| 974 | 0                                                 | https://www.inaturalist.org/observations/73320402 | 2020                                              | 73320402                                          | 2020-10-15                                        |  18.776519                                        |  -90.635314                                       |    5                                              | research                                          | CC-BY                                             | FALSE                                             |   41090                                           | giovalencia                                       |\n",
       "| 975 | 0                                                 | https://www.inaturalist.org/observations/735572   | 2014                                              | 735572                                            | 2014-02-22                                        |  18.335325                                        |  -66.468072                                       |  794                                              | research                                          | CC-BY-NC                                          | FALSE                                             |   41175                                           | sas103                                            |\n",
       "| 978 | 1                                                 | https://www.inaturalist.org/observations/73948061 | 2020                                              | 73948061                                          | 2020-12-04                                        |   4.900400                                        |  -70.633050                                       |  145                                              | research                                          | CC-BY-NC                                          | FALSE                                             |   41019                                           | kevingg2010                                       |\n",
       "| 980 | 1                                                 | https://www.inaturalist.org/observations/74104648 | 2021                                              | 74104648                                          | 2021-04-15                                        | -26.872289                                        |  -49.181824                                       |   31                                              | needs_id                                          | CC-BY                                             | FALSE                                             |   40477                                           | carloshrussi                                      |\n",
       "| 982 | 1                                                 | https://www.inaturalist.org/observations/76812    | 2012                                              | 76812                                             | 2012-05-09                                        |  41.359830                                        |  -81.583711                                       |    5                                              | research                                          | CC-BY                                             | FALSE                                             |   40522                                           | mperdicas                                         |\n",
       "| 983 | 1                                                 | https://www.inaturalist.org/observations/7700549  | 2001                                              | 7700549                                           | 2001-07-01                                        |  50.621981                                        | -117.819663                                       |  122                                              | research                                          | CC-BY-NC                                          | FALSE                                             |   74205                                           | hardinglee                                        |\n",
       "| 984 | 1                                                 | https://www.inaturalist.org/observations/7943910  | 2017                                              | 7943910                                           | 2017-09-01                                        |   6.869166                                        |    4.287415                                       | 1953                                              | research                                          | CC-BY-NC                                          | FALSE                                             |  183168                                           | taiyeadeyanju                                     |\n",
       "| 985 | 0                                                 | https://www.inaturalist.org/observations/8628945  | 1986                                              | 8628945                                           | 1986-02-11                                        |  49.228175                                        |   -2.075276                                       |  179                                              | research                                          | CC0                                               | FALSE                                             |   40415                                           | simontonge                                        |\n",
       "| 986 | 0                                                 | https://www.inaturalist.org/observations/8657196  | 2017                                              | 8657196                                           | 2017-07-09                                        |  22.226485                                        |  -98.954061                                       |  135                                              | needs_id                                          | CC-BY-NC-SA                                       | FALSE                                             |   41216                                           | juancruzado                                       |\n",
       "| 987 | 0                                                 | https://www.inaturalist.org/observations/8889540  | 2016                                              | 8889540                                           | 2016-07-12                                        |   6.656958                                        |  100.399672                                       | 1598                                              | research                                          | CC-BY-NC                                          | FALSE                                             |   40676                                           | charliev                                          |\n",
       "| 988 | 1                                                 | https://www.inaturalist.org/observations/9166117  | 2002                                              | 9166117                                           | 2002-09-24                                        |  20.871858                                        |  -86.895150                                       |    0                                              | needs_id                                          | CC-BY-NC                                          | FALSE                                             |   40991                                           | victornc                                          |\n",
       "| 989 | 1                                                 | https://www.inaturalist.org/observations/9166124  | 2002                                              | 9166124                                           | 2002-09-24                                        |  20.871858                                        |  -86.895150                                       |    0                                              | research                                          | CC-BY-NC                                          | FALSE                                             |   41017                                           | victornc                                          |\n",
       "| 990 | 0                                                 | https://www.inaturalist.org/observations/9218473  | 2003                                              | 9218473                                           | 2003-04-21                                        |  20.448567                                        |  -87.281565                                       |    8                                              | research                                          | CC-BY-NC                                          | FALSE                                             |   41090                                           | victornc                                          |\n",
       "| 991 | 1                                                 | https://www.inaturalist.org/observations/9218487  | 2003                                              | 9218487                                           | 2003-04-21                                        |  20.448567                                        |  -87.281565                                       |    0                                              | research                                          | CC-BY-NC                                          | FALSE                                             |  197799                                           | victornc                                          |\n",
       "| 992 | 0                                                 | https://www.inaturalist.org/observations/9344403  | 2003                                              | 9344403                                           | 2003-11-05                                        | -16.751948                                        |  -67.214355                                       |    0                                              | needs_id                                          | CC-BY-NC                                          | FALSE                                             |   41090                                           | ahospers                                          |\n",
       "| 993 | 1                                                 | https://www.inaturalist.org/observations/93978    | 2012                                              | 93978                                             | 2012-06-20                                        |  41.235559                                        |  -81.707045                                       |    5                                              | research                                          | CC-BY                                             | FALSE                                             |   74719                                           | mperdicas                                         |\n",
       "| 994 | 1                                                 | https://www.inaturalist.org/observations/93979    | 2012                                              | 93979                                             | 2012-06-20                                        |  41.205414                                        |  -81.605431                                       |    5                                              | research                                          | CC-BY                                             | FALSE                                             |   40509                                           | mperdicas                                         |\n",
       "| 995 | 1                                                 | https://www.inaturalist.org/observations/93980    | 2012                                              | 93980                                             | 2012-06-21                                        |  41.214525                                        |  -81.680020                                       |    5                                              | research                                          | CC-BY                                             | FALSE                                             |  183166                                           | mperdicas                                         |\n",
       "| 996 | 1                                                 | https://www.inaturalist.org/observations/9529350  | 2017                                              | 9529350                                           | 2017-08-20                                        |  31.609505                                        |  -98.905747                                       |    6                                              | research                                          | CC0                                               | FALSE                                             |   41301                                           | madisong                                          |\n",
       "| 997 | 0                                                 | https://www.inaturalist.org/observations/9544300  | 2004                                              | 9544300                                           | 2004-11-27                                        | -44.857656                                        |  168.050924                                       | 1474                                              | research                                          | CC-BY                                             | FALSE                                             |   41213                                           | riskindan                                         |\n",
       "| 998 | 0                                                 | https://www.inaturalist.org/observations/9674556  | 2018                                              | 9674556                                           | 2018-01-09                                        |   9.049298                                        |  -83.614674                                       | 1907                                              | needs_id                                          | CC-BY-NC                                          | FALSE                                             |   40991                                           | sgosch                                            |\n",
       "| 999 | 0                                                 | https://www.naturalista.mx/observations/5373726   | 2009                                              | 5373726                                           | 2009-12-22                                        |  19.342980                                        |  -96.721195                                       |    2                                              | research                                          | CC-BY                                             | FALSE                                             |  197800                                           | tereso30                                          |\n",
       "\n"
      ],
      "text/plain": [
       "    gloveOrHand observation                                       year\n",
       "1   1           https://www.inaturalist.org/observations/100665   2012\n",
       "3   0           https://www.inaturalist.org/observations/10623008 2018\n",
       "4   0           https://www.inaturalist.org/observations/10868671 2018\n",
       "5   0           https://www.inaturalist.org/observations/112578   2012\n",
       "6   1           https://www.inaturalist.org/observations/11388729 2018\n",
       "7   0           https://www.inaturalist.org/observations/117460   2012\n",
       "10  0           https://www.inaturalist.org/observations/120500   2010\n",
       "12  0           https://www.inaturalist.org/observations/121810   2012\n",
       "13  0           https://www.inaturalist.org/observations/122214   2012\n",
       "14  1           https://www.inaturalist.org/observations/123931   2007\n",
       "15  0           https://www.inaturalist.org/observations/123965   2007\n",
       "16  1           https://www.inaturalist.org/observations/12519390 2004\n",
       "17  1           https://www.inaturalist.org/observations/125920   2012\n",
       "18  0           https://www.inaturalist.org/observations/126323   2007\n",
       "19  1           https://www.inaturalist.org/observations/127029   2008\n",
       "21  0           https://www.inaturalist.org/observations/1296911  2008\n",
       "22  0           https://www.inaturalist.org/observations/131187   2011\n",
       "25  1           https://www.inaturalist.org/observations/133279   2012\n",
       "26  0           https://www.inaturalist.org/observations/136033   2009\n",
       "27  0           https://www.inaturalist.org/observations/139000   2011\n",
       "28  1           https://www.inaturalist.org/observations/140571   2009\n",
       "29  1           https://www.inaturalist.org/observations/140580   2009\n",
       "30  1           https://www.inaturalist.org/observations/140597   2011\n",
       "31  1           https://www.inaturalist.org/observations/14204583 2018\n",
       "32  0           https://www.inaturalist.org/observations/14635875 2017\n",
       "33  0           https://www.inaturalist.org/observations/15686267 2018\n",
       "34  0           https://www.inaturalist.org/observations/16162774 2018\n",
       "35  0           https://www.inaturalist.org/observations/16202689 2018\n",
       "37  0           https://www.inaturalist.org/observations/16915032 2017\n",
       "38  0           https://www.inaturalist.org/observations/17224027 2018\n",
       "... ...         ...                                               ... \n",
       "964 1           https://www.inaturalist.org/observations/72514241 2020\n",
       "965 1           https://www.inaturalist.org/observations/72514242 2020\n",
       "968 0           https://www.inaturalist.org/observations/72928491 2015\n",
       "969 0           https://www.inaturalist.org/observations/73316936 2020\n",
       "970 1           https://www.inaturalist.org/observations/73316940 2020\n",
       "971 0           https://www.inaturalist.org/observations/73318693 2020\n",
       "972 0           https://www.inaturalist.org/observations/73319757 2020\n",
       "973 0           https://www.inaturalist.org/observations/73319885 2020\n",
       "974 0           https://www.inaturalist.org/observations/73320402 2020\n",
       "975 0           https://www.inaturalist.org/observations/735572   2014\n",
       "978 1           https://www.inaturalist.org/observations/73948061 2020\n",
       "980 1           https://www.inaturalist.org/observations/74104648 2021\n",
       "982 1           https://www.inaturalist.org/observations/76812    2012\n",
       "983 1           https://www.inaturalist.org/observations/7700549  2001\n",
       "984 1           https://www.inaturalist.org/observations/7943910  2017\n",
       "985 0           https://www.inaturalist.org/observations/8628945  1986\n",
       "986 0           https://www.inaturalist.org/observations/8657196  2017\n",
       "987 0           https://www.inaturalist.org/observations/8889540  2016\n",
       "988 1           https://www.inaturalist.org/observations/9166117  2002\n",
       "989 1           https://www.inaturalist.org/observations/9166124  2002\n",
       "990 0           https://www.inaturalist.org/observations/9218473  2003\n",
       "991 1           https://www.inaturalist.org/observations/9218487  2003\n",
       "992 0           https://www.inaturalist.org/observations/9344403  2003\n",
       "993 1           https://www.inaturalist.org/observations/93978    2012\n",
       "994 1           https://www.inaturalist.org/observations/93979    2012\n",
       "995 1           https://www.inaturalist.org/observations/93980    2012\n",
       "996 1           https://www.inaturalist.org/observations/9529350  2017\n",
       "997 0           https://www.inaturalist.org/observations/9544300  2004\n",
       "998 0           https://www.inaturalist.org/observations/9674556  2018\n",
       "999 0           https://www.naturalista.mx/observations/5373726   2009\n",
       "    iNaturalistID observed_on latitude   longitude   positional_accuracy\n",
       "1   100665        2012-07-10   41.011000  -81.684333     0              \n",
       "3   10623008      2018-03-16   42.158061    9.398053     0              \n",
       "4   10868671      2018-02-17   19.508945 -103.710766  1030              \n",
       "5   112578        2012-04-13    4.746486  -76.293932  2118              \n",
       "6   11388729      2018-04-18   41.606241  -73.051556  5888              \n",
       "7   117460        2012-08-28   41.298249  -81.456460     0              \n",
       "10  120500        2010-10-18    7.743067  -72.558583     0              \n",
       "12  121810        2012-09-11   41.274409  -81.497865     0              \n",
       "13  122214        2012-09-13   42.582826  -80.398481   100              \n",
       "14  123931        2007-01-02   10.379174  -84.110749     0              \n",
       "15  123965        2007-01-06   10.379174  -84.110749     0              \n",
       "16  12519390      2004-08-10   21.091626  -89.595612   421              \n",
       "17  125920        2012-08-27    5.524271  -74.873124     0              \n",
       "18  126323        2007-01-12   10.546194  -84.005727  3537              \n",
       "19  127029        2008-10-02   35.067167 -109.780347    54              \n",
       "21  1296911       2008-08-31   44.911615    7.788198   100              \n",
       "22  131187        2011-07-12   53.222627    6.773069  1174              \n",
       "25  133279        2012-05-19   40.233035  -83.035462     0              \n",
       "26  136033        2009-08-23    5.929048    0.073490     0              \n",
       "27  139000        2011-07-24   37.379789 -121.728743     0              \n",
       "28  140571        2009-08-02   -5.092889   38.615167   300              \n",
       "29  140580        2009-07-26   -5.099683   38.624317    20              \n",
       "30  140597        2011-03-11   -5.098987   38.632182    30              \n",
       "31  14204583      2018-07-06   34.109141  -90.159799     0              \n",
       "32  14635875      2017-12-09   16.973000  122.198024 12688              \n",
       "33  15686267      2018-08-19  -21.884813  125.544615     0              \n",
       "34  16162774      2018-08-16   44.697237    8.152634     6              \n",
       "35  16202689      2018-07-14    6.325299  -73.948875   132              \n",
       "37  16915032      2017-05-26   18.515877  -99.012753    15              \n",
       "38  17224027      2018-10-04   23.447104 -109.972120   122              \n",
       "... ...           ...         ...        ...         ...                \n",
       "964 72514241      2020-09-30   54.371096   83.959558   31               \n",
       "965 72514242      2020-09-30   54.368485   83.968262   31               \n",
       "968 72928491      2015-11-22  -10.988247  -65.928711    4               \n",
       "969 73316936      2020-12-16   18.776506  -90.635383    5               \n",
       "970 73316940      2020-10-14   18.776547  -90.635322    5               \n",
       "971 73318693      2020-10-14   18.776608  -90.634439    5               \n",
       "972 73319757      2020-11-25   18.812111  -90.648003    5               \n",
       "973 73319885      2020-11-12   18.812247  -90.647828   50               \n",
       "974 73320402      2020-10-15   18.776519  -90.635314    5               \n",
       "975 735572        2014-02-22   18.335325  -66.468072  794               \n",
       "978 73948061      2020-12-04    4.900400  -70.633050  145               \n",
       "980 74104648      2021-04-15  -26.872289  -49.181824   31               \n",
       "982 76812         2012-05-09   41.359830  -81.583711    5               \n",
       "983 7700549       2001-07-01   50.621981 -117.819663  122               \n",
       "984 7943910       2017-09-01    6.869166    4.287415 1953               \n",
       "985 8628945       1986-02-11   49.228175   -2.075276  179               \n",
       "986 8657196       2017-07-09   22.226485  -98.954061  135               \n",
       "987 8889540       2016-07-12    6.656958  100.399672 1598               \n",
       "988 9166117       2002-09-24   20.871858  -86.895150    0               \n",
       "989 9166124       2002-09-24   20.871858  -86.895150    0               \n",
       "990 9218473       2003-04-21   20.448567  -87.281565    8               \n",
       "991 9218487       2003-04-21   20.448567  -87.281565    0               \n",
       "992 9344403       2003-11-05  -16.751948  -67.214355    0               \n",
       "993 93978         2012-06-20   41.235559  -81.707045    5               \n",
       "994 93979         2012-06-20   41.205414  -81.605431    5               \n",
       "995 93980         2012-06-21   41.214525  -81.680020    5               \n",
       "996 9529350       2017-08-20   31.609505  -98.905747    6               \n",
       "997 9544300       2004-11-27  -44.857656  168.050924 1474               \n",
       "998 9674556       2018-01-09    9.049298  -83.614674 1907               \n",
       "999 5373726       2009-12-22   19.342980  -96.721195    2               \n",
       "    quality_grade license     captive taxon_id recorded_by              \n",
       "1   research      CC-BY       FALSE    40509   jwhittle                 \n",
       "3   research      CC-BY       FALSE    40695   jujurenoult              \n",
       "4   needs_id      CC-BY-NC    FALSE    40992   zamboiro                 \n",
       "5   needs_id      CC-BY       FALSE    41039   damonsalveo              \n",
       "6   research      CC-BY-NC    FALSE    40523   lindabowen               \n",
       "7   research      CC-BY       FALSE   183166   mperdicas                \n",
       "10  research      CC-BY-NC    FALSE    74518   arleyo                   \n",
       "12  research      CC-BY       FALSE    40349   jwhittle                 \n",
       "13  research      CC-BY-NC    FALSE    40629   pcatling                 \n",
       "14  research      CC-BY-NC    FALSE    41221   kucycads                 \n",
       "15  research      CC-BY-NC    FALSE    41005   kucycads                 \n",
       "16  needs_id      CC-BY-ND    FALSE    40992   luis_diaz-gamboa         \n",
       "17  needs_id      CC-BY-NC    FALSE    41226   biologist13              \n",
       "18  research      CC-BY-NC    FALSE    41057   kucycads                 \n",
       "19  research      CC-BY-NC    FALSE    40342   kucycads                 \n",
       "21  research      CC-BY-NC    FALSE    40383   roberto_sindaco          \n",
       "22  research      CC-BY       FALSE    40308   torwart                  \n",
       "25  research      CC-BY       FALSE    40509   jwhittle                 \n",
       "26  research      CC-BY       FALSE   183177   jakob                    \n",
       "27  research      CC-BY-NC    FALSE    41301   edwardrooks              \n",
       "28  research      CC0         FALSE    40966   carrieseltzer            \n",
       "29  needs_id      CC0         FALSE    40585   carrieseltzer            \n",
       "30  research      CC0         FALSE    40811   carrieseltzer            \n",
       "31  research      CC-BY-NC    FALSE   183166   cricketfrog13            \n",
       "32  needs_id      CC-BY-NC    FALSE    74298   ryan367                  \n",
       "33  needs_id      CC-BY       FALSE    40268   questagame               \n",
       "34  research      CC-BY-NC    FALSE    40291   rtoffoli                 \n",
       "35  research      CC-BY-NC    FALSE    41153   michaelsteven            \n",
       "37  research      CC-BY-NC    FALSE    41387   josue__hdz               \n",
       "38  research      CC-BY-NC    FALSE    40309   osielalejandrofloresrosas\n",
       "... ...           ...         ...     ...      ...                      \n",
       "964 research      CC-BY-NC    FALSE     74928  sibats                   \n",
       "965 needs_id      CC-BY-NC    FALSE     40308  sibats                   \n",
       "968 research      CC-BY       FALSE     41396  vincentvosriberalta      \n",
       "969 research      CC-BY       FALSE     74602  giovalencia              \n",
       "970 research      CC-BY       FALSE     41006  giovalencia              \n",
       "971 research      CC-BY       FALSE    197799  giovalencia              \n",
       "972 research      CC-BY       FALSE   1067750  giovalencia              \n",
       "973 research      CC-BY       FALSE     41153  giovalencia              \n",
       "974 research      CC-BY       FALSE     41090  giovalencia              \n",
       "975 research      CC-BY-NC    FALSE     41175  sas103                   \n",
       "978 research      CC-BY-NC    FALSE     41019  kevingg2010              \n",
       "980 needs_id      CC-BY       FALSE     40477  carloshrussi             \n",
       "982 research      CC-BY       FALSE     40522  mperdicas                \n",
       "983 research      CC-BY-NC    FALSE     74205  hardinglee               \n",
       "984 research      CC-BY-NC    FALSE    183168  taiyeadeyanju            \n",
       "985 research      CC0         FALSE     40415  simontonge               \n",
       "986 needs_id      CC-BY-NC-SA FALSE     41216  juancruzado              \n",
       "987 research      CC-BY-NC    FALSE     40676  charliev                 \n",
       "988 needs_id      CC-BY-NC    FALSE     40991  victornc                 \n",
       "989 research      CC-BY-NC    FALSE     41017  victornc                 \n",
       "990 research      CC-BY-NC    FALSE     41090  victornc                 \n",
       "991 research      CC-BY-NC    FALSE    197799  victornc                 \n",
       "992 needs_id      CC-BY-NC    FALSE     41090  ahospers                 \n",
       "993 research      CC-BY       FALSE     74719  mperdicas                \n",
       "994 research      CC-BY       FALSE     40509  mperdicas                \n",
       "995 research      CC-BY       FALSE    183166  mperdicas                \n",
       "996 research      CC0         FALSE     41301  madisong                 \n",
       "997 research      CC-BY       FALSE     41213  riskindan                \n",
       "998 needs_id      CC-BY-NC    FALSE     40991  sgosch                   \n",
       "999 research      CC-BY       FALSE    197800  tereso30                 "
      ]
     },
     "metadata": {},
     "output_type": "display_data"
    }
   ],
   "source": [
    "handsglovesbats"
   ]
  },
  {
   "cell_type": "markdown",
   "metadata": {},
   "source": [
    "## How many people used gloves?\n"
   ]
  },
  {
   "cell_type": "code",
   "execution_count": 58,
   "metadata": {},
   "outputs": [
    {
     "data": {
      "text/html": [
       "<table>\n",
       "<thead><tr><th scope=col>n</th><th scope=col>nn</th></tr></thead>\n",
       "<tbody>\n",
       "\t<tr><td>1  </td><td>165</td></tr>\n",
       "</tbody>\n",
       "</table>\n"
      ],
      "text/latex": [
       "\\begin{tabular}{r|ll}\n",
       " n & nn\\\\\n",
       "\\hline\n",
       "\t 1   & 165\\\\\n",
       "\\end{tabular}\n"
      ],
      "text/markdown": [
       "\n",
       "| n | nn |\n",
       "|---|---|\n",
       "| 1   | 165 |\n",
       "\n"
      ],
      "text/plain": [
       "  n nn \n",
       "1 1 165"
      ]
     },
     "metadata": {},
     "output_type": "display_data"
    }
   ],
   "source": [
    "handsglovesbats %>% count(recorded_by, gloveOrHand ) %>% filter(gloveOrHand == 1) %>% count(recorded_by) %>% count(n)"
   ]
  },
  {
   "cell_type": "markdown",
   "metadata": {},
   "source": [
    "## How many people didn't use gloves?"
   ]
  },
  {
   "cell_type": "code",
   "execution_count": 57,
   "metadata": {},
   "outputs": [
    {
     "data": {
      "text/html": [
       "<table>\n",
       "<thead><tr><th scope=col>n</th><th scope=col>nn</th></tr></thead>\n",
       "<tbody>\n",
       "\t<tr><td>1  </td><td>214</td></tr>\n",
       "</tbody>\n",
       "</table>\n"
      ],
      "text/latex": [
       "\\begin{tabular}{r|ll}\n",
       " n & nn\\\\\n",
       "\\hline\n",
       "\t 1   & 214\\\\\n",
       "\\end{tabular}\n"
      ],
      "text/markdown": [
       "\n",
       "| n | nn |\n",
       "|---|---|\n",
       "| 1   | 214 |\n",
       "\n"
      ],
      "text/plain": [
       "  n nn \n",
       "1 1 214"
      ]
     },
     "metadata": {},
     "output_type": "display_data"
    }
   ],
   "source": [
    "handsglovesbats %>% count(recorded_by, gloveOrHand ) %>% filter(gloveOrHand == 0) %>% count(recorded_by) %>% count(n)"
   ]
  },
  {
   "cell_type": "markdown",
   "metadata": {},
   "source": [
    "## How many people did both?"
   ]
  },
  {
   "cell_type": "code",
   "execution_count": 61,
   "metadata": {},
   "outputs": [
    {
     "data": {
      "text/html": [
       "<table>\n",
       "<thead><tr><th scope=col>n</th><th scope=col>nn</th></tr></thead>\n",
       "<tbody>\n",
       "\t<tr><td>2 </td><td>38</td></tr>\n",
       "</tbody>\n",
       "</table>\n"
      ],
      "text/latex": [
       "\\begin{tabular}{r|ll}\n",
       " n & nn\\\\\n",
       "\\hline\n",
       "\t 2  & 38\\\\\n",
       "\\end{tabular}\n"
      ],
      "text/markdown": [
       "\n",
       "| n | nn |\n",
       "|---|---|\n",
       "| 2  | 38 |\n",
       "\n"
      ],
      "text/plain": [
       "  n nn\n",
       "1 2 38"
      ]
     },
     "metadata": {},
     "output_type": "display_data"
    }
   ],
   "source": [
    "handsglovesbats %>% count(recorded_by, gloveOrHand ) %>%  count(recorded_by) %>% count(n) %>% filter(n == 2)"
   ]
  },
  {
   "cell_type": "code",
   "execution_count": 104,
   "metadata": {},
   "outputs": [],
   "source": [
    "users <- handsglovesbats %>% count(recorded_by, gloveOrHand ) "
   ]
  },
  {
   "cell_type": "markdown",
   "metadata": {},
   "source": [
    "## Who did both?"
   ]
  },
  {
   "cell_type": "code",
   "execution_count": 101,
   "metadata": {},
   "outputs": [],
   "source": [
    "both <- handsglovesbats %>% count(recorded_by, gloveOrHand ) %>% count(recorded_by) %>% filter(n == 2)"
   ]
  },
  {
   "cell_type": "code",
   "execution_count": 102,
   "metadata": {},
   "outputs": [
    {
     "data": {
      "text/html": [
       "<table>\n",
       "<thead><tr><th scope=col>recorded_by</th><th scope=col>n</th></tr></thead>\n",
       "<tbody>\n",
       "\t<tr><td>alexanderyuz          </td><td>2                     </td></tr>\n",
       "\t<tr><td>axlramone             </td><td>2                     </td></tr>\n",
       "\t<tr><td>bio_jpacheco          </td><td>2                     </td></tr>\n",
       "\t<tr><td>birdchuvashia         </td><td>2                     </td></tr>\n",
       "\t<tr><td>carlosfunes37         </td><td>2                     </td></tr>\n",
       "\t<tr><td>carloshrussi          </td><td>2                     </td></tr>\n",
       "\t<tr><td>charliev              </td><td>2                     </td></tr>\n",
       "\t<tr><td>christoph_moning      </td><td>2                     </td></tr>\n",
       "\t<tr><td>courtharding          </td><td>2                     </td></tr>\n",
       "\t<tr><td>edward137             </td><td>2                     </td></tr>\n",
       "\t<tr><td>gerardo_eusebio_valdes</td><td>2                     </td></tr>\n",
       "\t<tr><td>gerjhe                </td><td>2                     </td></tr>\n",
       "\t<tr><td>giovalencia           </td><td>2                     </td></tr>\n",
       "\t<tr><td>henicorhina           </td><td>2                     </td></tr>\n",
       "\t<tr><td>ivanpazvinas          </td><td>2                     </td></tr>\n",
       "\t<tr><td>jdockens              </td><td>2                     </td></tr>\n",
       "\t<tr><td>joedillon             </td><td>2                     </td></tr>\n",
       "\t<tr><td>juancruzado           </td><td>2                     </td></tr>\n",
       "\t<tr><td>jwhittle              </td><td>2                     </td></tr>\n",
       "\t<tr><td>kristenwarren         </td><td>2                     </td></tr>\n",
       "\t<tr><td>kucycads              </td><td>2                     </td></tr>\n",
       "\t<tr><td>larivera              </td><td>2                     </td></tr>\n",
       "\t<tr><td>lester_fonseca        </td><td>2                     </td></tr>\n",
       "\t<tr><td>lisopavlik            </td><td>2                     </td></tr>\n",
       "\t<tr><td>liuid                 </td><td>2                     </td></tr>\n",
       "\t<tr><td>lizcerv               </td><td>2                     </td></tr>\n",
       "\t<tr><td>lucas533              </td><td>2                     </td></tr>\n",
       "\t<tr><td>manuel_ruedi          </td><td>2                     </td></tr>\n",
       "\t<tr><td>mperdicas             </td><td>2                     </td></tr>\n",
       "\t<tr><td>olly_levashova        </td><td>2                     </td></tr>\n",
       "\t<tr><td>peteacorr             </td><td>2                     </td></tr>\n",
       "\t<tr><td>raulcastillo52        </td><td>2                     </td></tr>\n",
       "\t<tr><td>sanghalodge           </td><td>2                     </td></tr>\n",
       "\t<tr><td>thrashchang           </td><td>2                     </td></tr>\n",
       "\t<tr><td>torwart               </td><td>2                     </td></tr>\n",
       "\t<tr><td>ulrichzanabria        </td><td>2                     </td></tr>\n",
       "\t<tr><td>victornc              </td><td>2                     </td></tr>\n",
       "\t<tr><td>yvesbas               </td><td>2                     </td></tr>\n",
       "</tbody>\n",
       "</table>\n"
      ],
      "text/latex": [
       "\\begin{tabular}{r|ll}\n",
       " recorded\\_by & n\\\\\n",
       "\\hline\n",
       "\t alexanderyuz           & 2                     \\\\\n",
       "\t axlramone              & 2                     \\\\\n",
       "\t bio\\_jpacheco           & 2                       \\\\\n",
       "\t birdchuvashia          & 2                     \\\\\n",
       "\t carlosfunes37          & 2                     \\\\\n",
       "\t carloshrussi           & 2                     \\\\\n",
       "\t charliev               & 2                     \\\\\n",
       "\t christoph\\_moning       & 2                       \\\\\n",
       "\t courtharding           & 2                     \\\\\n",
       "\t edward137              & 2                     \\\\\n",
       "\t gerardo\\_eusebio\\_valdes & 2                         \\\\\n",
       "\t gerjhe                 & 2                     \\\\\n",
       "\t giovalencia            & 2                     \\\\\n",
       "\t henicorhina            & 2                     \\\\\n",
       "\t ivanpazvinas           & 2                     \\\\\n",
       "\t jdockens               & 2                     \\\\\n",
       "\t joedillon              & 2                     \\\\\n",
       "\t juancruzado            & 2                     \\\\\n",
       "\t jwhittle               & 2                     \\\\\n",
       "\t kristenwarren          & 2                     \\\\\n",
       "\t kucycads               & 2                     \\\\\n",
       "\t larivera               & 2                     \\\\\n",
       "\t lester\\_fonseca         & 2                       \\\\\n",
       "\t lisopavlik             & 2                     \\\\\n",
       "\t liuid                  & 2                     \\\\\n",
       "\t lizcerv                & 2                     \\\\\n",
       "\t lucas533               & 2                     \\\\\n",
       "\t manuel\\_ruedi           & 2                       \\\\\n",
       "\t mperdicas              & 2                     \\\\\n",
       "\t olly\\_levashova         & 2                       \\\\\n",
       "\t peteacorr              & 2                     \\\\\n",
       "\t raulcastillo52         & 2                     \\\\\n",
       "\t sanghalodge            & 2                     \\\\\n",
       "\t thrashchang            & 2                     \\\\\n",
       "\t torwart                & 2                     \\\\\n",
       "\t ulrichzanabria         & 2                     \\\\\n",
       "\t victornc               & 2                     \\\\\n",
       "\t yvesbas                & 2                     \\\\\n",
       "\\end{tabular}\n"
      ],
      "text/markdown": [
       "\n",
       "| recorded_by | n |\n",
       "|---|---|\n",
       "| alexanderyuz           | 2                      |\n",
       "| axlramone              | 2                      |\n",
       "| bio_jpacheco           | 2                      |\n",
       "| birdchuvashia          | 2                      |\n",
       "| carlosfunes37          | 2                      |\n",
       "| carloshrussi           | 2                      |\n",
       "| charliev               | 2                      |\n",
       "| christoph_moning       | 2                      |\n",
       "| courtharding           | 2                      |\n",
       "| edward137              | 2                      |\n",
       "| gerardo_eusebio_valdes | 2                      |\n",
       "| gerjhe                 | 2                      |\n",
       "| giovalencia            | 2                      |\n",
       "| henicorhina            | 2                      |\n",
       "| ivanpazvinas           | 2                      |\n",
       "| jdockens               | 2                      |\n",
       "| joedillon              | 2                      |\n",
       "| juancruzado            | 2                      |\n",
       "| jwhittle               | 2                      |\n",
       "| kristenwarren          | 2                      |\n",
       "| kucycads               | 2                      |\n",
       "| larivera               | 2                      |\n",
       "| lester_fonseca         | 2                      |\n",
       "| lisopavlik             | 2                      |\n",
       "| liuid                  | 2                      |\n",
       "| lizcerv                | 2                      |\n",
       "| lucas533               | 2                      |\n",
       "| manuel_ruedi           | 2                      |\n",
       "| mperdicas              | 2                      |\n",
       "| olly_levashova         | 2                      |\n",
       "| peteacorr              | 2                      |\n",
       "| raulcastillo52         | 2                      |\n",
       "| sanghalodge            | 2                      |\n",
       "| thrashchang            | 2                      |\n",
       "| torwart                | 2                      |\n",
       "| ulrichzanabria         | 2                      |\n",
       "| victornc               | 2                      |\n",
       "| yvesbas                | 2                      |\n",
       "\n"
      ],
      "text/plain": [
       "   recorded_by            n\n",
       "1  alexanderyuz           2\n",
       "2  axlramone              2\n",
       "3  bio_jpacheco           2\n",
       "4  birdchuvashia          2\n",
       "5  carlosfunes37          2\n",
       "6  carloshrussi           2\n",
       "7  charliev               2\n",
       "8  christoph_moning       2\n",
       "9  courtharding           2\n",
       "10 edward137              2\n",
       "11 gerardo_eusebio_valdes 2\n",
       "12 gerjhe                 2\n",
       "13 giovalencia            2\n",
       "14 henicorhina            2\n",
       "15 ivanpazvinas           2\n",
       "16 jdockens               2\n",
       "17 joedillon              2\n",
       "18 juancruzado            2\n",
       "19 jwhittle               2\n",
       "20 kristenwarren          2\n",
       "21 kucycads               2\n",
       "22 larivera               2\n",
       "23 lester_fonseca         2\n",
       "24 lisopavlik             2\n",
       "25 liuid                  2\n",
       "26 lizcerv                2\n",
       "27 lucas533               2\n",
       "28 manuel_ruedi           2\n",
       "29 mperdicas              2\n",
       "30 olly_levashova         2\n",
       "31 peteacorr              2\n",
       "32 raulcastillo52         2\n",
       "33 sanghalodge            2\n",
       "34 thrashchang            2\n",
       "35 torwart                2\n",
       "36 ulrichzanabria         2\n",
       "37 victornc               2\n",
       "38 yvesbas                2"
      ]
     },
     "metadata": {},
     "output_type": "display_data"
    }
   ],
   "source": [
    "both %>% arrange(desc(n)) "
   ]
  },
  {
   "cell_type": "code",
   "execution_count": 112,
   "metadata": {},
   "outputs": [],
   "source": [
    "total <- merge(users,both,by=\"recorded_by\") "
   ]
  },
  {
   "cell_type": "code",
   "execution_count": 113,
   "metadata": {},
   "outputs": [
    {
     "data": {
      "text/html": [
       "<table>\n",
       "<thead><tr><th scope=col>recorded_by</th><th scope=col>gloveOrHand</th><th scope=col>n.x</th><th scope=col>n.y</th><th scope=col>n.x/n.y</th></tr></thead>\n",
       "<tbody>\n",
       "\t<tr><td>alexanderyuz          </td><td>1                     </td><td>10                    </td><td>2                     </td><td> 5.0                  </td></tr>\n",
       "\t<tr><td>alexanderyuz          </td><td>0                     </td><td> 2                    </td><td>2                     </td><td> 1.0                  </td></tr>\n",
       "\t<tr><td>axlramone             </td><td>1                     </td><td> 2                    </td><td>2                     </td><td> 1.0                  </td></tr>\n",
       "\t<tr><td>axlramone             </td><td>0                     </td><td> 1                    </td><td>2                     </td><td> 0.5                  </td></tr>\n",
       "\t<tr><td>bio_jpacheco          </td><td>1                     </td><td> 4                    </td><td>2                     </td><td> 2.0                  </td></tr>\n",
       "\t<tr><td>bio_jpacheco          </td><td>0                     </td><td> 5                    </td><td>2                     </td><td> 2.5                  </td></tr>\n",
       "\t<tr><td>birdchuvashia         </td><td>0                     </td><td> 1                    </td><td>2                     </td><td> 0.5                  </td></tr>\n",
       "\t<tr><td>birdchuvashia         </td><td>1                     </td><td> 1                    </td><td>2                     </td><td> 0.5                  </td></tr>\n",
       "\t<tr><td>carlosfunes37         </td><td>0                     </td><td> 5                    </td><td>2                     </td><td> 2.5                  </td></tr>\n",
       "\t<tr><td>carlosfunes37         </td><td>1                     </td><td>11                    </td><td>2                     </td><td> 5.5                  </td></tr>\n",
       "\t<tr><td>carloshrussi          </td><td>0                     </td><td> 5                    </td><td>2                     </td><td> 2.5                  </td></tr>\n",
       "\t<tr><td>carloshrussi          </td><td>1                     </td><td> 3                    </td><td>2                     </td><td> 1.5                  </td></tr>\n",
       "\t<tr><td>charliev              </td><td>1                     </td><td> 3                    </td><td>2                     </td><td> 1.5                  </td></tr>\n",
       "\t<tr><td>charliev              </td><td>0                     </td><td> 1                    </td><td>2                     </td><td> 0.5                  </td></tr>\n",
       "\t<tr><td>christoph_moning      </td><td>0                     </td><td> 1                    </td><td>2                     </td><td> 0.5                  </td></tr>\n",
       "\t<tr><td>christoph_moning      </td><td>1                     </td><td> 1                    </td><td>2                     </td><td> 0.5                  </td></tr>\n",
       "\t<tr><td>courtharding          </td><td>0                     </td><td> 1                    </td><td>2                     </td><td> 0.5                  </td></tr>\n",
       "\t<tr><td>courtharding          </td><td>1                     </td><td> 3                    </td><td>2                     </td><td> 1.5                  </td></tr>\n",
       "\t<tr><td>edward137             </td><td>1                     </td><td> 1                    </td><td>2                     </td><td> 0.5                  </td></tr>\n",
       "\t<tr><td>edward137             </td><td>0                     </td><td> 3                    </td><td>2                     </td><td> 1.5                  </td></tr>\n",
       "\t<tr><td>gerardo_eusebio_valdes</td><td>1                     </td><td> 2                    </td><td>2                     </td><td> 1.0                  </td></tr>\n",
       "\t<tr><td>gerardo_eusebio_valdes</td><td>0                     </td><td>31                    </td><td>2                     </td><td>15.5                  </td></tr>\n",
       "\t<tr><td>gerjhe                </td><td>1                     </td><td> 1                    </td><td>2                     </td><td> 0.5                  </td></tr>\n",
       "\t<tr><td>gerjhe                </td><td>0                     </td><td> 3                    </td><td>2                     </td><td> 1.5                  </td></tr>\n",
       "\t<tr><td>giovalencia           </td><td>1                     </td><td> 1                    </td><td>2                     </td><td> 0.5                  </td></tr>\n",
       "\t<tr><td>giovalencia           </td><td>0                     </td><td> 5                    </td><td>2                     </td><td> 2.5                  </td></tr>\n",
       "\t<tr><td>henicorhina           </td><td>0                     </td><td> 3                    </td><td>2                     </td><td> 1.5                  </td></tr>\n",
       "\t<tr><td>henicorhina           </td><td>1                     </td><td> 1                    </td><td>2                     </td><td> 0.5                  </td></tr>\n",
       "\t<tr><td>ivanpazvinas          </td><td>1                     </td><td> 3                    </td><td>2                     </td><td> 1.5                  </td></tr>\n",
       "\t<tr><td>ivanpazvinas          </td><td>0                     </td><td> 5                    </td><td>2                     </td><td> 2.5                  </td></tr>\n",
       "\t<tr><td>...</td><td>...</td><td>...</td><td>...</td><td>...</td></tr>\n",
       "\t<tr><td>lisopavlik    </td><td>1             </td><td> 1            </td><td>2             </td><td> 0.5          </td></tr>\n",
       "\t<tr><td>lisopavlik    </td><td>0             </td><td> 2            </td><td>2             </td><td> 1.0          </td></tr>\n",
       "\t<tr><td>liuid         </td><td>0             </td><td> 1            </td><td>2             </td><td> 0.5          </td></tr>\n",
       "\t<tr><td>liuid         </td><td>1             </td><td> 1            </td><td>2             </td><td> 0.5          </td></tr>\n",
       "\t<tr><td>lizcerv       </td><td>1             </td><td> 7            </td><td>2             </td><td> 3.5          </td></tr>\n",
       "\t<tr><td>lizcerv       </td><td>0             </td><td> 3            </td><td>2             </td><td> 1.5          </td></tr>\n",
       "\t<tr><td>lucas533      </td><td>0             </td><td> 7            </td><td>2             </td><td> 3.5          </td></tr>\n",
       "\t<tr><td>lucas533      </td><td>1             </td><td> 3            </td><td>2             </td><td> 1.5          </td></tr>\n",
       "\t<tr><td>manuel_ruedi  </td><td>1             </td><td> 1            </td><td>2             </td><td> 0.5          </td></tr>\n",
       "\t<tr><td>manuel_ruedi  </td><td>0             </td><td> 5            </td><td>2             </td><td> 2.5          </td></tr>\n",
       "\t<tr><td>mperdicas     </td><td>0             </td><td> 3            </td><td>2             </td><td> 1.5          </td></tr>\n",
       "\t<tr><td>mperdicas     </td><td>1             </td><td> 4            </td><td>2             </td><td> 2.0          </td></tr>\n",
       "\t<tr><td>olly_levashova</td><td>1             </td><td> 1            </td><td>2             </td><td> 0.5          </td></tr>\n",
       "\t<tr><td>olly_levashova</td><td>0             </td><td> 1            </td><td>2             </td><td> 0.5          </td></tr>\n",
       "\t<tr><td>peteacorr     </td><td>0             </td><td> 2            </td><td>2             </td><td> 1.0          </td></tr>\n",
       "\t<tr><td>peteacorr     </td><td>1             </td><td> 1            </td><td>2             </td><td> 0.5          </td></tr>\n",
       "\t<tr><td>raulcastillo52</td><td>1             </td><td> 2            </td><td>2             </td><td> 1.0          </td></tr>\n",
       "\t<tr><td>raulcastillo52</td><td>0             </td><td> 2            </td><td>2             </td><td> 1.0          </td></tr>\n",
       "\t<tr><td>sanghalodge   </td><td>1             </td><td> 2            </td><td>2             </td><td> 1.0          </td></tr>\n",
       "\t<tr><td>sanghalodge   </td><td>0             </td><td>11            </td><td>2             </td><td> 5.5          </td></tr>\n",
       "\t<tr><td>thrashchang   </td><td>1             </td><td> 2            </td><td>2             </td><td> 1.0          </td></tr>\n",
       "\t<tr><td>thrashchang   </td><td>0             </td><td> 7            </td><td>2             </td><td> 3.5          </td></tr>\n",
       "\t<tr><td>torwart       </td><td>1             </td><td> 1            </td><td>2             </td><td> 0.5          </td></tr>\n",
       "\t<tr><td>torwart       </td><td>0             </td><td> 1            </td><td>2             </td><td> 0.5          </td></tr>\n",
       "\t<tr><td>ulrichzanabria</td><td>0             </td><td> 2            </td><td>2             </td><td> 1.0          </td></tr>\n",
       "\t<tr><td>ulrichzanabria</td><td>1             </td><td> 1            </td><td>2             </td><td> 0.5          </td></tr>\n",
       "\t<tr><td>victornc      </td><td>0             </td><td> 1            </td><td>2             </td><td> 0.5          </td></tr>\n",
       "\t<tr><td>victornc      </td><td>1             </td><td> 3            </td><td>2             </td><td> 1.5          </td></tr>\n",
       "\t<tr><td>yvesbas       </td><td>0             </td><td> 2            </td><td>2             </td><td> 1.0          </td></tr>\n",
       "\t<tr><td>yvesbas       </td><td>1             </td><td>32            </td><td>2             </td><td>16.0          </td></tr>\n",
       "</tbody>\n",
       "</table>\n"
      ],
      "text/latex": [
       "\\begin{tabular}{r|lllll}\n",
       " recorded\\_by & gloveOrHand & n.x & n.y & n.x/n.y\\\\\n",
       "\\hline\n",
       "\t alexanderyuz           & 1                      & 10                     & 2                      &  5.0                  \\\\\n",
       "\t alexanderyuz           & 0                      &  2                     & 2                      &  1.0                  \\\\\n",
       "\t axlramone              & 1                      &  2                     & 2                      &  1.0                  \\\\\n",
       "\t axlramone              & 0                      &  1                     & 2                      &  0.5                  \\\\\n",
       "\t bio\\_jpacheco           & 1                        &  4                       & 2                        &  2.0                    \\\\\n",
       "\t bio\\_jpacheco           & 0                        &  5                       & 2                        &  2.5                    \\\\\n",
       "\t birdchuvashia          & 0                      &  1                     & 2                      &  0.5                  \\\\\n",
       "\t birdchuvashia          & 1                      &  1                     & 2                      &  0.5                  \\\\\n",
       "\t carlosfunes37          & 0                      &  5                     & 2                      &  2.5                  \\\\\n",
       "\t carlosfunes37          & 1                      & 11                     & 2                      &  5.5                  \\\\\n",
       "\t carloshrussi           & 0                      &  5                     & 2                      &  2.5                  \\\\\n",
       "\t carloshrussi           & 1                      &  3                     & 2                      &  1.5                  \\\\\n",
       "\t charliev               & 1                      &  3                     & 2                      &  1.5                  \\\\\n",
       "\t charliev               & 0                      &  1                     & 2                      &  0.5                  \\\\\n",
       "\t christoph\\_moning       & 0                        &  1                       & 2                        &  0.5                    \\\\\n",
       "\t christoph\\_moning       & 1                        &  1                       & 2                        &  0.5                    \\\\\n",
       "\t courtharding           & 0                      &  1                     & 2                      &  0.5                  \\\\\n",
       "\t courtharding           & 1                      &  3                     & 2                      &  1.5                  \\\\\n",
       "\t edward137              & 1                      &  1                     & 2                      &  0.5                  \\\\\n",
       "\t edward137              & 0                      &  3                     & 2                      &  1.5                  \\\\\n",
       "\t gerardo\\_eusebio\\_valdes & 1                          &  2                         & 2                          &  1.0                      \\\\\n",
       "\t gerardo\\_eusebio\\_valdes & 0                          & 31                         & 2                          & 15.5                      \\\\\n",
       "\t gerjhe                 & 1                      &  1                     & 2                      &  0.5                  \\\\\n",
       "\t gerjhe                 & 0                      &  3                     & 2                      &  1.5                  \\\\\n",
       "\t giovalencia            & 1                      &  1                     & 2                      &  0.5                  \\\\\n",
       "\t giovalencia            & 0                      &  5                     & 2                      &  2.5                  \\\\\n",
       "\t henicorhina            & 0                      &  3                     & 2                      &  1.5                  \\\\\n",
       "\t henicorhina            & 1                      &  1                     & 2                      &  0.5                  \\\\\n",
       "\t ivanpazvinas           & 1                      &  3                     & 2                      &  1.5                  \\\\\n",
       "\t ivanpazvinas           & 0                      &  5                     & 2                      &  2.5                  \\\\\n",
       "\t ... & ... & ... & ... & ...\\\\\n",
       "\t lisopavlik     & 1              &  1             & 2              &  0.5          \\\\\n",
       "\t lisopavlik     & 0              &  2             & 2              &  1.0          \\\\\n",
       "\t liuid          & 0              &  1             & 2              &  0.5          \\\\\n",
       "\t liuid          & 1              &  1             & 2              &  0.5          \\\\\n",
       "\t lizcerv        & 1              &  7             & 2              &  3.5          \\\\\n",
       "\t lizcerv        & 0              &  3             & 2              &  1.5          \\\\\n",
       "\t lucas533       & 0              &  7             & 2              &  3.5          \\\\\n",
       "\t lucas533       & 1              &  3             & 2              &  1.5          \\\\\n",
       "\t manuel\\_ruedi   & 1                &  1               & 2                &  0.5            \\\\\n",
       "\t manuel\\_ruedi   & 0                &  5               & 2                &  2.5            \\\\\n",
       "\t mperdicas      & 0              &  3             & 2              &  1.5          \\\\\n",
       "\t mperdicas      & 1              &  4             & 2              &  2.0          \\\\\n",
       "\t olly\\_levashova & 1                &  1               & 2                &  0.5            \\\\\n",
       "\t olly\\_levashova & 0                &  1               & 2                &  0.5            \\\\\n",
       "\t peteacorr      & 0              &  2             & 2              &  1.0          \\\\\n",
       "\t peteacorr      & 1              &  1             & 2              &  0.5          \\\\\n",
       "\t raulcastillo52 & 1              &  2             & 2              &  1.0          \\\\\n",
       "\t raulcastillo52 & 0              &  2             & 2              &  1.0          \\\\\n",
       "\t sanghalodge    & 1              &  2             & 2              &  1.0          \\\\\n",
       "\t sanghalodge    & 0              & 11             & 2              &  5.5          \\\\\n",
       "\t thrashchang    & 1              &  2             & 2              &  1.0          \\\\\n",
       "\t thrashchang    & 0              &  7             & 2              &  3.5          \\\\\n",
       "\t torwart        & 1              &  1             & 2              &  0.5          \\\\\n",
       "\t torwart        & 0              &  1             & 2              &  0.5          \\\\\n",
       "\t ulrichzanabria & 0              &  2             & 2              &  1.0          \\\\\n",
       "\t ulrichzanabria & 1              &  1             & 2              &  0.5          \\\\\n",
       "\t victornc       & 0              &  1             & 2              &  0.5          \\\\\n",
       "\t victornc       & 1              &  3             & 2              &  1.5          \\\\\n",
       "\t yvesbas        & 0              &  2             & 2              &  1.0          \\\\\n",
       "\t yvesbas        & 1              & 32             & 2              & 16.0          \\\\\n",
       "\\end{tabular}\n"
      ],
      "text/markdown": [
       "\n",
       "| recorded_by | gloveOrHand | n.x | n.y | n.x/n.y |\n",
       "|---|---|---|---|---|\n",
       "| alexanderyuz           | 1                      | 10                     | 2                      |  5.0                   |\n",
       "| alexanderyuz           | 0                      |  2                     | 2                      |  1.0                   |\n",
       "| axlramone              | 1                      |  2                     | 2                      |  1.0                   |\n",
       "| axlramone              | 0                      |  1                     | 2                      |  0.5                   |\n",
       "| bio_jpacheco           | 1                      |  4                     | 2                      |  2.0                   |\n",
       "| bio_jpacheco           | 0                      |  5                     | 2                      |  2.5                   |\n",
       "| birdchuvashia          | 0                      |  1                     | 2                      |  0.5                   |\n",
       "| birdchuvashia          | 1                      |  1                     | 2                      |  0.5                   |\n",
       "| carlosfunes37          | 0                      |  5                     | 2                      |  2.5                   |\n",
       "| carlosfunes37          | 1                      | 11                     | 2                      |  5.5                   |\n",
       "| carloshrussi           | 0                      |  5                     | 2                      |  2.5                   |\n",
       "| carloshrussi           | 1                      |  3                     | 2                      |  1.5                   |\n",
       "| charliev               | 1                      |  3                     | 2                      |  1.5                   |\n",
       "| charliev               | 0                      |  1                     | 2                      |  0.5                   |\n",
       "| christoph_moning       | 0                      |  1                     | 2                      |  0.5                   |\n",
       "| christoph_moning       | 1                      |  1                     | 2                      |  0.5                   |\n",
       "| courtharding           | 0                      |  1                     | 2                      |  0.5                   |\n",
       "| courtharding           | 1                      |  3                     | 2                      |  1.5                   |\n",
       "| edward137              | 1                      |  1                     | 2                      |  0.5                   |\n",
       "| edward137              | 0                      |  3                     | 2                      |  1.5                   |\n",
       "| gerardo_eusebio_valdes | 1                      |  2                     | 2                      |  1.0                   |\n",
       "| gerardo_eusebio_valdes | 0                      | 31                     | 2                      | 15.5                   |\n",
       "| gerjhe                 | 1                      |  1                     | 2                      |  0.5                   |\n",
       "| gerjhe                 | 0                      |  3                     | 2                      |  1.5                   |\n",
       "| giovalencia            | 1                      |  1                     | 2                      |  0.5                   |\n",
       "| giovalencia            | 0                      |  5                     | 2                      |  2.5                   |\n",
       "| henicorhina            | 0                      |  3                     | 2                      |  1.5                   |\n",
       "| henicorhina            | 1                      |  1                     | 2                      |  0.5                   |\n",
       "| ivanpazvinas           | 1                      |  3                     | 2                      |  1.5                   |\n",
       "| ivanpazvinas           | 0                      |  5                     | 2                      |  2.5                   |\n",
       "| ... | ... | ... | ... | ... |\n",
       "| lisopavlik     | 1              |  1             | 2              |  0.5           |\n",
       "| lisopavlik     | 0              |  2             | 2              |  1.0           |\n",
       "| liuid          | 0              |  1             | 2              |  0.5           |\n",
       "| liuid          | 1              |  1             | 2              |  0.5           |\n",
       "| lizcerv        | 1              |  7             | 2              |  3.5           |\n",
       "| lizcerv        | 0              |  3             | 2              |  1.5           |\n",
       "| lucas533       | 0              |  7             | 2              |  3.5           |\n",
       "| lucas533       | 1              |  3             | 2              |  1.5           |\n",
       "| manuel_ruedi   | 1              |  1             | 2              |  0.5           |\n",
       "| manuel_ruedi   | 0              |  5             | 2              |  2.5           |\n",
       "| mperdicas      | 0              |  3             | 2              |  1.5           |\n",
       "| mperdicas      | 1              |  4             | 2              |  2.0           |\n",
       "| olly_levashova | 1              |  1             | 2              |  0.5           |\n",
       "| olly_levashova | 0              |  1             | 2              |  0.5           |\n",
       "| peteacorr      | 0              |  2             | 2              |  1.0           |\n",
       "| peteacorr      | 1              |  1             | 2              |  0.5           |\n",
       "| raulcastillo52 | 1              |  2             | 2              |  1.0           |\n",
       "| raulcastillo52 | 0              |  2             | 2              |  1.0           |\n",
       "| sanghalodge    | 1              |  2             | 2              |  1.0           |\n",
       "| sanghalodge    | 0              | 11             | 2              |  5.5           |\n",
       "| thrashchang    | 1              |  2             | 2              |  1.0           |\n",
       "| thrashchang    | 0              |  7             | 2              |  3.5           |\n",
       "| torwart        | 1              |  1             | 2              |  0.5           |\n",
       "| torwart        | 0              |  1             | 2              |  0.5           |\n",
       "| ulrichzanabria | 0              |  2             | 2              |  1.0           |\n",
       "| ulrichzanabria | 1              |  1             | 2              |  0.5           |\n",
       "| victornc       | 0              |  1             | 2              |  0.5           |\n",
       "| victornc       | 1              |  3             | 2              |  1.5           |\n",
       "| yvesbas        | 0              |  2             | 2              |  1.0           |\n",
       "| yvesbas        | 1              | 32             | 2              | 16.0           |\n",
       "\n"
      ],
      "text/plain": [
       "    recorded_by            gloveOrHand n.x n.y n.x/n.y\n",
       "1   alexanderyuz           1           10  2    5.0   \n",
       "2   alexanderyuz           0            2  2    1.0   \n",
       "3   axlramone              1            2  2    1.0   \n",
       "4   axlramone              0            1  2    0.5   \n",
       "5   bio_jpacheco           1            4  2    2.0   \n",
       "6   bio_jpacheco           0            5  2    2.5   \n",
       "7   birdchuvashia          0            1  2    0.5   \n",
       "8   birdchuvashia          1            1  2    0.5   \n",
       "9   carlosfunes37          0            5  2    2.5   \n",
       "10  carlosfunes37          1           11  2    5.5   \n",
       "11  carloshrussi           0            5  2    2.5   \n",
       "12  carloshrussi           1            3  2    1.5   \n",
       "13  charliev               1            3  2    1.5   \n",
       "14  charliev               0            1  2    0.5   \n",
       "15  christoph_moning       0            1  2    0.5   \n",
       "16  christoph_moning       1            1  2    0.5   \n",
       "17  courtharding           0            1  2    0.5   \n",
       "18  courtharding           1            3  2    1.5   \n",
       "19  edward137              1            1  2    0.5   \n",
       "20  edward137              0            3  2    1.5   \n",
       "21  gerardo_eusebio_valdes 1            2  2    1.0   \n",
       "22  gerardo_eusebio_valdes 0           31  2   15.5   \n",
       "23  gerjhe                 1            1  2    0.5   \n",
       "24  gerjhe                 0            3  2    1.5   \n",
       "25  giovalencia            1            1  2    0.5   \n",
       "26  giovalencia            0            5  2    2.5   \n",
       "27  henicorhina            0            3  2    1.5   \n",
       "28  henicorhina            1            1  2    0.5   \n",
       "29  ivanpazvinas           1            3  2    1.5   \n",
       "30  ivanpazvinas           0            5  2    2.5   \n",
       "... ...                    ...         ... ... ...    \n",
       "47  lisopavlik             1            1  2    0.5   \n",
       "48  lisopavlik             0            2  2    1.0   \n",
       "49  liuid                  0            1  2    0.5   \n",
       "50  liuid                  1            1  2    0.5   \n",
       "51  lizcerv                1            7  2    3.5   \n",
       "52  lizcerv                0            3  2    1.5   \n",
       "53  lucas533               0            7  2    3.5   \n",
       "54  lucas533               1            3  2    1.5   \n",
       "55  manuel_ruedi           1            1  2    0.5   \n",
       "56  manuel_ruedi           0            5  2    2.5   \n",
       "57  mperdicas              0            3  2    1.5   \n",
       "58  mperdicas              1            4  2    2.0   \n",
       "59  olly_levashova         1            1  2    0.5   \n",
       "60  olly_levashova         0            1  2    0.5   \n",
       "61  peteacorr              0            2  2    1.0   \n",
       "62  peteacorr              1            1  2    0.5   \n",
       "63  raulcastillo52         1            2  2    1.0   \n",
       "64  raulcastillo52         0            2  2    1.0   \n",
       "65  sanghalodge            1            2  2    1.0   \n",
       "66  sanghalodge            0           11  2    5.5   \n",
       "67  thrashchang            1            2  2    1.0   \n",
       "68  thrashchang            0            7  2    3.5   \n",
       "69  torwart                1            1  2    0.5   \n",
       "70  torwart                0            1  2    0.5   \n",
       "71  ulrichzanabria         0            2  2    1.0   \n",
       "72  ulrichzanabria         1            1  2    0.5   \n",
       "73  victornc               0            1  2    0.5   \n",
       "74  victornc               1            3  2    1.5   \n",
       "75  yvesbas                0            2  2    1.0   \n",
       "76  yvesbas                1           32  2   16.0   "
      ]
     },
     "metadata": {},
     "output_type": "display_data"
    }
   ],
   "source": [
    "total %>% mutate(n.x / n.y)"
   ]
  },
  {
   "cell_type": "code",
   "execution_count": 114,
   "metadata": {},
   "outputs": [],
   "source": [
    "write.csv(total,\"users.csv\")"
   ]
  },
  {
   "cell_type": "code",
   "execution_count": null,
   "metadata": {},
   "outputs": [],
   "source": []
  }
 ],
 "metadata": {
  "kernelspec": {
   "display_name": "R",
   "language": "R",
   "name": "ir"
  },
  "language_info": {
   "codemirror_mode": "r",
   "file_extension": ".r",
   "mimetype": "text/x-r-source",
   "name": "R",
   "pygments_lexer": "r",
   "version": "3.6.1"
  }
 },
 "nbformat": 4,
 "nbformat_minor": 4
}
