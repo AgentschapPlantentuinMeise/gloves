{
 "cells": [
  {
   "cell_type": "markdown",
   "metadata": {},
   "source": [
    "# Analyse glove wearing of people handling bats"
   ]
  },
  {
   "cell_type": "markdown",
   "metadata": {},
   "source": [
    "Uses logistic regression to model the probability that someone was using gloves with date as the independent variable"
   ]
  },
  {
   "cell_type": "code",
   "execution_count": 1,
   "metadata": {},
   "outputs": [
    {
     "name": "stderr",
     "output_type": "stream",
     "text": [
      "Warning message:\n",
      "\"package 'readr' was built under R version 3.6.3\""
     ]
    }
   ],
   "source": [
    "# To read the CSV file of input data\n",
    "#install.packages(\"readr\") #uncomment if not already installed\n",
    "library(readr) \n"
   ]
  },
  {
   "cell_type": "code",
   "execution_count": 2,
   "metadata": {},
   "outputs": [
    {
     "name": "stderr",
     "output_type": "stream",
     "text": [
      "Warning message:\n",
      "\"package 'ggplot2' was built under R version 3.6.3\""
     ]
    }
   ],
   "source": [
    "# For plotting the results\n",
    "#install.packages(\"ggplot2\") #uncomment if not already installed\n",
    "library(ggplot2)"
   ]
  },
  {
   "cell_type": "code",
   "execution_count": 3,
   "metadata": {},
   "outputs": [
    {
     "name": "stderr",
     "output_type": "stream",
     "text": [
      "Warning message:\n",
      "\"package 'ggthemes' was built under R version 3.6.3\""
     ]
    }
   ],
   "source": [
    "# To use a fancy theme in plotting with ggplot\n",
    "#install.packages(\"ggthemes\") #uncomment if not already installed\n",
    "library(ggthemes)"
   ]
  },
  {
   "cell_type": "code",
   "execution_count": 4,
   "metadata": {},
   "outputs": [
    {
     "name": "stderr",
     "output_type": "stream",
     "text": [
      "Warning message:\n",
      "\"package 'dplyr' was built under R version 3.6.3\"\n",
      "Attaching package: 'dplyr'\n",
      "\n",
      "The following objects are masked from 'package:stats':\n",
      "\n",
      "    filter, lag\n",
      "\n",
      "The following objects are masked from 'package:base':\n",
      "\n",
      "    intersect, setdiff, setequal, union\n",
      "\n"
     ]
    }
   ],
   "source": [
    "# To filter and reformat data\n",
    "#install.packages(\"dplyr\") #uncomment if not already installed\n",
    "library(dplyr)\n",
    "\n"
   ]
  },
  {
   "cell_type": "code",
   "execution_count": 5,
   "metadata": {},
   "outputs": [
    {
     "name": "stderr",
     "output_type": "stream",
     "text": [
      "Warning message:\n",
      "\"package 'reshape2' was built under R version 3.6.3\""
     ]
    }
   ],
   "source": [
    "# Widen the data\n",
    "#install.packages(\"reshape2\") #uncomment if not already installed\n",
    "library(reshape2)\n"
   ]
  },
  {
   "cell_type": "code",
   "execution_count": 6,
   "metadata": {},
   "outputs": [
    {
     "name": "stderr",
     "output_type": "stream",
     "text": [
      "Warning message:\n",
      "\"package 'rinat' was built under R version 3.6.3\""
     ]
    }
   ],
   "source": [
    "# To access the iNaturalist API\n",
    "#install.packages(\"rinat\") #uncomment if not already installed\n",
    "library(rinat)\n"
   ]
  },
  {
   "cell_type": "code",
   "execution_count": 7,
   "metadata": {},
   "outputs": [
    {
     "name": "stderr",
     "output_type": "stream",
     "text": [
      "Warning message:\n",
      "\"package 'httr' was built under R version 3.6.3\""
     ]
    }
   ],
   "source": [
    "# To parse the iNaturalist URL\n",
    "#install.packages(\"httr\") #uncomment if not already installed\n",
    "library(httr)"
   ]
  },
  {
   "cell_type": "markdown",
   "metadata": {},
   "source": [
    "## Read in the input as a CSV file"
   ]
  },
  {
   "cell_type": "code",
   "execution_count": 101,
   "metadata": {},
   "outputs": [],
   "source": [
    "handsglovesbats <- read.csv(\"~/R/gloves/handsglovesbats.csv\")"
   ]
  },
  {
   "cell_type": "code",
   "execution_count": 102,
   "metadata": {},
   "outputs": [],
   "source": [
    "## This section converts the words 'gloves' and 'hands' to a binary 1 and 0\n",
    "handsglovesbats$gloveOrHand <- as.factor(handsglovesbats$gloveOrHand )\n",
    "handsglovesbats$gloveOrHand <- as.numeric(handsglovesbats$gloveOrHand)\n",
    "handsglovesbats$gloveOrHand <- handsglovesbats$gloveOrHand -2\n",
    "handsglovesbats$gloveOrHand <- handsglovesbats$gloveOrHand *-1"
   ]
  },
  {
   "cell_type": "code",
   "execution_count": 103,
   "metadata": {},
   "outputs": [],
   "source": [
    "# Get rid of years before 2008, because there is little data\n",
    "#handsglovesbats <- handsglovesbats[handsglovesbats$year > 2007, ]   "
   ]
  },
  {
   "cell_type": "markdown",
   "metadata": {},
   "source": [
    "## Loop over the input collecting additional data from the iNaturalist API"
   ]
  },
  {
   "cell_type": "code",
   "execution_count": 104,
   "metadata": {},
   "outputs": [
    {
     "name": "stdout",
     "output_type": "stream",
     "text": [
      "[1] \"The data has already been extracted\"\n"
     ]
    }
   ],
   "source": [
    "\n",
    "\n",
    "if(file.exists(\"dataExtractedFromINAT.csv\")){\n",
    "    print(\"The data has already been extracted\")\n",
    "    handsglovesbats <- read.csv(\"dataExtractedFromINAT.csv\")\n",
    "} else {\n",
    "    for (row in 1:nrow(handsglovesbats)) {\n",
    "  \n",
    "        path <- parse_url(handsglovesbats[row,\"observation\"])$path\n",
    "\n",
    "        iNaturalistID <- strsplit(path, \"/\")[[1]][2]\n",
    "\n",
    "        handsglovesbats[row, \"iNaturalistID\"]   <- iNaturalistID\n",
    "\n",
    "        #########################################################################\n",
    "        # BEWARE THIS CALLS THE iNATURALIST API AND SO SHOULD BE USE CAUTIOUSLY #\n",
    "        #########################################################################\n",
    "        observation <- get_inat_obs_id(iNaturalistID)\n",
    "        \n",
    "        Sys.sleep(2) # Slow it down so that the API is not overloaded\n",
    "        \n",
    "        # Don't collect data for observations that are not licensed\n",
    "        if(!is.null(observation$license)){\n",
    "            handsglovesbats[row, \"observed_on\"] <- observation$observed_on\n",
    "            if(is.null(observation$observation$latitude)){\n",
    "                handsglovesbats[row, \"latitude\"] <- 999\n",
    "                handsglovesbats[row, \"longitude\"] <- 999\n",
    "            } else {\n",
    "                handsglovesbats[row, \"latitude\"] <- observation$latitude\n",
    "                handsglovesbats[row, \"longitude\"] <- observation$longitude\n",
    "            }\n",
    "\n",
    "            if(is.null(observation$positional_accuracy)){\n",
    "                handsglovesbats[row, \"positional_accuracy\"] <- 0\n",
    "            } else {\n",
    "                handsglovesbats[row, \"positional_accuracy\"] <- observation$positional_accuracy\n",
    "            }\n",
    "            handsglovesbats[row, \"quality_grade\"] <- observation$quality_grade\n",
    "            handsglovesbats[row, \"license\"] <- observation$license\n",
    "            handsglovesbats[row, \"captive\"] <- observation$captive\n",
    "            #if no consensus identification has been made the community_taxon_id will be NULL\n",
    "            if(is.null(observation$community_taxon_id)){ \n",
    "                handsglovesbats[row, \"taxon_id\"] <- observation$taxon_id\n",
    "            } else {\n",
    "                handsglovesbats[row, \"taxon_id\"] <- observation$community_taxon_id\n",
    "            }\n",
    "            handsglovesbats[row, \"recorded_by\"] <- observation$user$login\n",
    "        }\n",
    "    }\n",
    "}"
   ]
  },
  {
   "cell_type": "markdown",
   "metadata": {},
   "source": [
    "## Output the retrived data to a CSV file for storage"
   ]
  },
  {
   "cell_type": "code",
   "execution_count": 105,
   "metadata": {},
   "outputs": [],
   "source": [
    "if(!file.exists(\"dataExtractedFromINAT.csv\")){\n",
    "    write.csv(handsglovesbats,\"dataExtractedFromINAT.csv\")\n",
    "    }"
   ]
  },
  {
   "cell_type": "markdown",
   "metadata": {},
   "source": [
    "## Remove the rows where the data are not licenced"
   ]
  },
  {
   "cell_type": "code",
   "execution_count": 106,
   "metadata": {},
   "outputs": [],
   "source": [
    "handsglovesbats <- handsglovesbats[complete.cases(handsglovesbats[5:5]),]"
   ]
  },
  {
   "cell_type": "markdown",
   "metadata": {},
   "source": [
    "## Convert the data in text to a real date type"
   ]
  },
  {
   "cell_type": "code",
   "execution_count": 107,
   "metadata": {},
   "outputs": [],
   "source": [
    "handsglovesbats$observed_on <- as.Date(handsglovesbats$observed_on)"
   ]
  },
  {
   "cell_type": "code",
   "execution_count": 108,
   "metadata": {},
   "outputs": [],
   "source": [
    "#handsglovesbats$gloveOrHand <- ordered(handsglovesbats$gloveOrHand, levels = c(\"hand\", \"glove\"))\n",
    "\n",
    "#levels(handsglovesbats$gloveOrHand) <- c(0,1)"
   ]
  },
  {
   "cell_type": "markdown",
   "metadata": {},
   "source": [
    "## Create the model"
   ]
  },
  {
   "cell_type": "code",
   "execution_count": 109,
   "metadata": {},
   "outputs": [
    {
     "data": {
      "text/plain": [
       "\n",
       "Call:\n",
       "glm(formula = gloveOrHand ~ observed_on, family = binomial(link = \"logit\"), \n",
       "    data = handsglovesbats)\n",
       "\n",
       "Deviance Residuals: \n",
       "    Min       1Q   Median       3Q      Max  \n",
       "-1.2250  -1.0707  -0.8183   1.1568   2.3247  \n",
       "\n",
       "Coefficients:\n",
       "              Estimate Std. Error z value Pr(>|z|)    \n",
       "(Intercept) -6.701e+00  1.195e+00  -5.609 2.03e-08 ***\n",
       "observed_on  3.653e-04  6.782e-05   5.386 7.21e-08 ***\n",
       "---\n",
       "Signif. codes:  0 '***' 0.001 '**' 0.01 '*' 0.05 '.' 0.1 ' ' 1\n",
       "\n",
       "(Dispersion parameter for binomial family taken to be 1)\n",
       "\n",
       "    Null deviance: 963.24  on 706  degrees of freedom\n",
       "Residual deviance: 930.18  on 705  degrees of freedom\n",
       "  (89 observations deleted due to missingness)\n",
       "AIC: 934.18\n",
       "\n",
       "Number of Fisher Scoring iterations: 4\n"
      ]
     },
     "metadata": {},
     "output_type": "display_data"
    }
   ],
   "source": [
    "modelLG <- glm(gloveOrHand ~ observed_on,family=binomial(link='logit'),data=handsglovesbats)\n",
    "\n",
    "summary(modelLG)"
   ]
  },
  {
   "cell_type": "code",
   "execution_count": 110,
   "metadata": {},
   "outputs": [
    {
     "data": {
      "text/html": [
       "<dl class=dl-horizontal>\n",
       "\t<dt>(Intercept)</dt>\n",
       "\t\t<dd>0.00122987935286068</dd>\n",
       "\t<dt>observed_on</dt>\n",
       "\t\t<dd>1.00036532388113</dd>\n",
       "</dl>\n"
      ],
      "text/latex": [
       "\\begin{description*}\n",
       "\\item[(Intercept)] 0.00122987935286068\n",
       "\\item[observed\\textbackslash{}\\_on] 1.00036532388113\n",
       "\\end{description*}\n"
      ],
      "text/markdown": [
       "(Intercept)\n",
       ":   0.00122987935286068observed_on\n",
       ":   1.00036532388113\n",
       "\n"
      ],
      "text/plain": [
       "(Intercept) observed_on \n",
       "0.001229879 1.000365324 "
      ]
     },
     "metadata": {},
     "output_type": "display_data"
    },
    {
     "data": {
      "text/html": [
       "<table>\n",
       "<thead><tr><th></th><th scope=col>Df</th><th scope=col>Deviance</th><th scope=col>Resid. Df</th><th scope=col>Resid. Dev</th><th scope=col>Pr(&gt;Chi)</th></tr></thead>\n",
       "<tbody>\n",
       "\t<tr><th scope=row>NULL</th><td>NA          </td><td>      NA    </td><td>706         </td><td>963.2381    </td><td>          NA</td></tr>\n",
       "\t<tr><th scope=row>observed_on</th><td> 1          </td><td>33.06123    </td><td>705         </td><td>930.1769    </td><td>8.930175e-09</td></tr>\n",
       "</tbody>\n",
       "</table>\n"
      ],
      "text/latex": [
       "\\begin{tabular}{r|lllll}\n",
       "  & Df & Deviance & Resid. Df & Resid. Dev & Pr(>Chi)\\\\\n",
       "\\hline\n",
       "\tNULL & NA           &       NA     & 706          & 963.2381     &           NA\\\\\n",
       "\tobserved\\_on &  1           & 33.06123     & 705          & 930.1769     & 8.930175e-09\\\\\n",
       "\\end{tabular}\n"
      ],
      "text/markdown": [
       "\n",
       "| <!--/--> | Df | Deviance | Resid. Df | Resid. Dev | Pr(>Chi) |\n",
       "|---|---|---|---|---|---|\n",
       "| NULL | NA           |       NA     | 706          | 963.2381     |           NA |\n",
       "| observed_on |  1           | 33.06123     | 705          | 930.1769     | 8.930175e-09 |\n",
       "\n"
      ],
      "text/plain": [
       "            Df Deviance Resid. Df Resid. Dev Pr(>Chi)    \n",
       "NULL        NA       NA 706       963.2381             NA\n",
       "observed_on  1 33.06123 705       930.1769   8.930175e-09"
      ]
     },
     "metadata": {},
     "output_type": "display_data"
    }
   ],
   "source": [
    "# Odds Ratio\n",
    "oddrat <- exp(coef(modelLG))\n",
    "oddrat\n",
    "\n",
    "anova(modelLG, test=\"Chisq\")"
   ]
  },
  {
   "cell_type": "markdown",
   "metadata": {},
   "source": [
    "## Display the results in a graph"
   ]
  },
  {
   "cell_type": "code",
   "execution_count": 111,
   "metadata": {},
   "outputs": [
    {
     "name": "stderr",
     "output_type": "stream",
     "text": [
      "Warning message:\n",
      "\"Ignoring unknown parameters: height, width\"Warning message:\n",
      "\"Removed 89 rows containing non-finite values (stat_smooth).\"Warning message:\n",
      "\"Removed 89 rows containing missing values (geom_point).\""
     ]
    },
    {
     "data": {
      "image/png": "[encoded data removed]",
      "text/plain": [
       "plot without title"
      ]
     },
     "metadata": {},
     "output_type": "display_data"
    }
   ],
   "source": [
    "ggplot(handsglovesbats, aes(x=observed_on, y=gloveOrHand)) + \n",
    "  geom_point(height = 0.03, width=0.3, shape=16, alpha = 0.2, size=4) +\n",
    "  #geom_jitter(height = 0.03, width=0.3, shape=1, alpha = 0.4) +\n",
    "  #scale_x_continuous(breaks = seq(2008, 2021, by = 3)) +\n",
    "  stat_smooth(formula = y ~ x, method=\"glm\", method.args=list(family=\"binomial\"), se=TRUE, fill = \"steelblue\", inherit.aes = TRUE, size = 1.5, linetype = 1, colour = \"red\") +\n",
    "  labs(y = \"Probability of gloves being used\", x = \"Date observed\") + theme_stata(base_size = 20, base_family = \"sans\", scheme = \"s2color\")"
   ]
  },
  {
   "cell_type": "markdown",
   "metadata": {},
   "source": [
    "## Output the plot as high quality files"
   ]
  },
  {
   "cell_type": "code",
   "execution_count": 112,
   "metadata": {},
   "outputs": [
    {
     "name": "stderr",
     "output_type": "stream",
     "text": [
      "Warning message:\n",
      "\"Removed 89 rows containing non-finite values (stat_smooth).\"Warning message:\n",
      "\"Removed 89 rows containing missing values (geom_point).\"Warning message:\n",
      "\"Removed 89 rows containing non-finite values (stat_smooth).\"Warning message:\n",
      "\"Removed 89 rows containing missing values (geom_point).\""
     ]
    }
   ],
   "source": [
    "ggsave(\n",
    "  \"gloveprobability.tiff\",\n",
    "  plot = last_plot(),\n",
    "  device = \"tiff\",\n",
    "  scale = 1,\n",
    "  width = 242.7,\n",
    "  height = 150,\n",
    "  units = c(\"mm\"),\n",
    "  dpi = 300\n",
    ")\n",
    "\n",
    "ggsave(\n",
    "  \"gloveprobability.jpg\",\n",
    "  plot = last_plot(),\n",
    "  device = \"jpg\",\n",
    "  scale = 1,\n",
    "  width = 242.7,\n",
    "  height = 150,\n",
    "  units = c(\"mm\"),\n",
    "  dpi = 300\n",
    ")"
   ]
  },
  {
   "cell_type": "markdown",
   "metadata": {},
   "source": [
    "## See where the observations come from"
   ]
  },
  {
   "cell_type": "code",
   "execution_count": 113,
   "metadata": {},
   "outputs": [],
   "source": [
    "handsglovesbats$longitude[handsglovesbats$longitude == 999] <- NA\n",
    "handsglovesbats$latitude[handsglovesbats$latitude == 999] <- NA\n",
    "\n",
    "handsglovesbats$longitude <- as.numeric(handsglovesbats$longitude)\n",
    "handsglovesbats$latitude <- as.numeric(handsglovesbats$latitude)\n",
    "\n",
    "handsglovesbats$gloveOrHand <- as.factor(handsglovesbats$gloveOrHand )"
   ]
  },
  {
   "cell_type": "code",
   "execution_count": 114,
   "metadata": {},
   "outputs": [
    {
     "name": "stderr",
     "output_type": "stream",
     "text": [
      "Warning message:\n",
      "\"Removed 703 rows containing missing values (geom_point).\""
     ]
    },
    {
     "data": {
      "image/png": "[encoded data removed]",
      "text/plain": [
       "plot without title"
      ]
     },
     "metadata": {},
     "output_type": "display_data"
    }
   ],
   "source": [
    "## A more elaborate map of Colibri sp.\n",
    "ggplot(data = handsglovesbats, aes(x = longitude,\n",
    "                             y = latitude,\n",
    "                             colour = gloveOrHand)) +\n",
    "      geom_polygon(data = map_data(\"world\"),\n",
    "                       aes(x = long, y = lat, group = group),\n",
    "                       fill = \"grey95\",\n",
    "                       color = \"gray40\",\n",
    "                       size = 0.1) +\n",
    "      geom_point(size = 2, alpha = 1) +\n",
    "      #coord_fixed(xlim = range(handsglovesbats$longitude, na.rm = TRUE),\n",
    "      #            ylim = range(handsglovesbats$latitude, na.rm = TRUE)) +\n",
    "        coord_fixed(ylim = c(-60,80),\n",
    "                  xlim = c(-160,170)) +\n",
    "        labs(color = \"Hands (0) or\\n Gloves (1)\") +\n",
    "        theme_bw()"
   ]
  },
  {
   "cell_type": "code",
   "execution_count": 115,
   "metadata": {},
   "outputs": [
    {
     "name": "stderr",
     "output_type": "stream",
     "text": [
      "Warning message:\n",
      "\"Removed 703 rows containing missing values (geom_point).\"Warning message:\n",
      "\"Removed 703 rows containing missing values (geom_point).\""
     ]
    }
   ],
   "source": [
    "ggsave(\n",
    "  \"glovemap.tiff\",\n",
    "  plot = last_plot(),\n",
    "  device = \"tiff\",\n",
    "  scale = 1,\n",
    "  width = 242.7,\n",
    "  height = 150,\n",
    "  units = c(\"mm\"),\n",
    "  dpi = 300\n",
    ")\n",
    "\n",
    "ggsave(\n",
    "  \"glovemap.jpg\",\n",
    "  plot = last_plot(),\n",
    "  device = \"jpg\",\n",
    "  scale = 1,\n",
    "  width = 242.7,\n",
    "  height = 150,\n",
    "  units = c(\"mm\"),\n",
    "  dpi = 300\n",
    ")"
   ]
  },
  {
   "cell_type": "code",
   "execution_count": null,
   "metadata": {},
   "outputs": [],
   "source": []
  }
 ],
 "metadata": {
  "kernelspec": {
   "display_name": "R",
   "language": "R",
   "name": "ir"
  },
  "language_info": {
   "codemirror_mode": "r",
   "file_extension": ".r",
   "mimetype": "text/x-r-source",
   "name": "R",
   "pygments_lexer": "r",
   "version": "3.6.1"
  }
 },
 "nbformat": 4,
 "nbformat_minor": 4
}
